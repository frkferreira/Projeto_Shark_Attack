{
 "cells": [
  {
   "cell_type": "markdown",
   "id": "43de3fce",
   "metadata": {},
   "source": [
    " <center>IRONHACK - TURMA 90</center>"
   ]
  },
  {
   "cell_type": "markdown",
   "id": "f49bdbf7",
   "metadata": {},
   "source": [
    " <center>Projeto obrigatório : Shark Attack </center> "
   ]
  },
  {
   "cell_type": "markdown",
   "id": "c26e86ea",
   "metadata": {
    "heading_collapsed": true
   },
   "source": [
    "# Visualização dos Dados"
   ]
  },
  {
   "cell_type": "code",
   "execution_count": 89,
   "id": "72bf24fe",
   "metadata": {
    "ExecuteTime": {
     "end_time": "2022-11-01T18:57:36.084198Z",
     "start_time": "2022-11-01T18:57:36.079505Z"
    },
    "hidden": true
   },
   "outputs": [],
   "source": [
    "import pandas as pd\n",
    "import numpy as np\n",
    "import re\n",
    "import os"
   ]
  },
  {
   "cell_type": "code",
   "execution_count": 90,
   "id": "4394e1b9",
   "metadata": {
    "ExecuteTime": {
     "end_time": "2022-11-01T18:57:36.239843Z",
     "start_time": "2022-11-01T18:57:36.088186Z"
    },
    "hidden": true
   },
   "outputs": [],
   "source": [
    "# Importar dataset\n",
    "shark = pd.read_csv(r'C:\\Users\\fezin\\Desktop\\IRONHACK\\Projetos\\Projeto_Shark_Attack\\attacks.csv', encoding = 'latin-1')"
   ]
  },
  {
   "cell_type": "code",
   "execution_count": 91,
   "id": "ec6ec3b6",
   "metadata": {
    "ExecuteTime": {
     "end_time": "2022-11-01T18:57:36.270199Z",
     "start_time": "2022-11-01T18:57:36.243237Z"
    },
    "hidden": true
   },
   "outputs": [
    {
     "data": {
      "text/html": [
       "<div>\n",
       "<style scoped>\n",
       "    .dataframe tbody tr th:only-of-type {\n",
       "        vertical-align: middle;\n",
       "    }\n",
       "\n",
       "    .dataframe tbody tr th {\n",
       "        vertical-align: top;\n",
       "    }\n",
       "\n",
       "    .dataframe thead th {\n",
       "        text-align: right;\n",
       "    }\n",
       "</style>\n",
       "<table border=\"1\" class=\"dataframe\">\n",
       "  <thead>\n",
       "    <tr style=\"text-align: right;\">\n",
       "      <th></th>\n",
       "      <th>Case Number</th>\n",
       "      <th>Date</th>\n",
       "      <th>Year</th>\n",
       "      <th>Type</th>\n",
       "      <th>Country</th>\n",
       "      <th>Area</th>\n",
       "      <th>Location</th>\n",
       "      <th>Activity</th>\n",
       "      <th>Name</th>\n",
       "      <th>Sex</th>\n",
       "      <th>Age</th>\n",
       "      <th>Injury</th>\n",
       "      <th>Fatal (Y/N)</th>\n",
       "      <th>Time</th>\n",
       "      <th>Species</th>\n",
       "      <th>Investigator or Source</th>\n",
       "      <th>pdf</th>\n",
       "      <th>href formula</th>\n",
       "      <th>href</th>\n",
       "      <th>Case Number.1</th>\n",
       "      <th>Case Number.2</th>\n",
       "      <th>original order</th>\n",
       "      <th>Unnamed: 22</th>\n",
       "      <th>Unnamed: 23</th>\n",
       "    </tr>\n",
       "  </thead>\n",
       "  <tbody>\n",
       "    <tr>\n",
       "      <th>0</th>\n",
       "      <td>2018.06.25</td>\n",
       "      <td>25-Jun-2018</td>\n",
       "      <td>2018.0</td>\n",
       "      <td>Boating</td>\n",
       "      <td>USA</td>\n",
       "      <td>California</td>\n",
       "      <td>Oceanside, San Diego County</td>\n",
       "      <td>Paddling</td>\n",
       "      <td>Julie Wolfe</td>\n",
       "      <td>F</td>\n",
       "      <td>57</td>\n",
       "      <td>No injury to occupant, outrigger canoe and pad...</td>\n",
       "      <td>N</td>\n",
       "      <td>18h00</td>\n",
       "      <td>White shark</td>\n",
       "      <td>R. Collier, GSAF</td>\n",
       "      <td>2018.06.25-Wolfe.pdf</td>\n",
       "      <td>http://sharkattackfile.net/spreadsheets/pdf_di...</td>\n",
       "      <td>http://sharkattackfile.net/spreadsheets/pdf_di...</td>\n",
       "      <td>2018.06.25</td>\n",
       "      <td>2018.06.25</td>\n",
       "      <td>6303.0</td>\n",
       "      <td>NaN</td>\n",
       "      <td>NaN</td>\n",
       "    </tr>\n",
       "  </tbody>\n",
       "</table>\n",
       "</div>"
      ],
      "text/plain": [
       "  Case Number         Date    Year     Type Country        Area  \\\n",
       "0  2018.06.25  25-Jun-2018  2018.0  Boating     USA  California   \n",
       "\n",
       "                      Location  Activity         Name Sex  Age  \\\n",
       "0  Oceanside, San Diego County  Paddling  Julie Wolfe    F  57   \n",
       "\n",
       "                                              Injury Fatal (Y/N)   Time  \\\n",
       "0  No injury to occupant, outrigger canoe and pad...           N  18h00   \n",
       "\n",
       "      Species  Investigator or Source                   pdf  \\\n",
       "0  White shark       R. Collier, GSAF  2018.06.25-Wolfe.pdf   \n",
       "\n",
       "                                        href formula  \\\n",
       "0  http://sharkattackfile.net/spreadsheets/pdf_di...   \n",
       "\n",
       "                                                href Case Number.1  \\\n",
       "0  http://sharkattackfile.net/spreadsheets/pdf_di...    2018.06.25   \n",
       "\n",
       "  Case Number.2  original order Unnamed: 22 Unnamed: 23  \n",
       "0    2018.06.25          6303.0         NaN         NaN  "
      ]
     },
     "execution_count": 91,
     "metadata": {},
     "output_type": "execute_result"
    }
   ],
   "source": [
    "# Visualização do dataset\n",
    "shark.head(1)"
   ]
  },
  {
   "cell_type": "code",
   "execution_count": 92,
   "id": "a48ce8af",
   "metadata": {
    "ExecuteTime": {
     "end_time": "2022-11-01T18:57:36.300933Z",
     "start_time": "2022-11-01T18:57:36.273239Z"
    },
    "hidden": true
   },
   "outputs": [
    {
     "data": {
      "text/html": [
       "<div>\n",
       "<style scoped>\n",
       "    .dataframe tbody tr th:only-of-type {\n",
       "        vertical-align: middle;\n",
       "    }\n",
       "\n",
       "    .dataframe tbody tr th {\n",
       "        vertical-align: top;\n",
       "    }\n",
       "\n",
       "    .dataframe thead th {\n",
       "        text-align: right;\n",
       "    }\n",
       "</style>\n",
       "<table border=\"1\" class=\"dataframe\">\n",
       "  <thead>\n",
       "    <tr style=\"text-align: right;\">\n",
       "      <th></th>\n",
       "      <th>Case Number</th>\n",
       "      <th>Date</th>\n",
       "      <th>Year</th>\n",
       "      <th>Type</th>\n",
       "      <th>Country</th>\n",
       "      <th>Area</th>\n",
       "      <th>Location</th>\n",
       "      <th>Activity</th>\n",
       "      <th>Name</th>\n",
       "      <th>Sex</th>\n",
       "      <th>Age</th>\n",
       "      <th>Injury</th>\n",
       "      <th>Fatal (Y/N)</th>\n",
       "      <th>Time</th>\n",
       "      <th>Species</th>\n",
       "      <th>Investigator or Source</th>\n",
       "      <th>pdf</th>\n",
       "      <th>href formula</th>\n",
       "      <th>href</th>\n",
       "      <th>Case Number.1</th>\n",
       "      <th>Case Number.2</th>\n",
       "      <th>original order</th>\n",
       "      <th>Unnamed: 22</th>\n",
       "      <th>Unnamed: 23</th>\n",
       "    </tr>\n",
       "  </thead>\n",
       "  <tbody>\n",
       "    <tr>\n",
       "      <th>0</th>\n",
       "      <td>2018.06.25</td>\n",
       "      <td>25-Jun-2018</td>\n",
       "      <td>2018.0</td>\n",
       "      <td>Boating</td>\n",
       "      <td>USA</td>\n",
       "      <td>California</td>\n",
       "      <td>Oceanside, San Diego County</td>\n",
       "      <td>Paddling</td>\n",
       "      <td>Julie Wolfe</td>\n",
       "      <td>F</td>\n",
       "      <td>57</td>\n",
       "      <td>No injury to occupant, outrigger canoe and pad...</td>\n",
       "      <td>N</td>\n",
       "      <td>18h00</td>\n",
       "      <td>White shark</td>\n",
       "      <td>R. Collier, GSAF</td>\n",
       "      <td>2018.06.25-Wolfe.pdf</td>\n",
       "      <td>http://sharkattackfile.net/spreadsheets/pdf_di...</td>\n",
       "      <td>http://sharkattackfile.net/spreadsheets/pdf_di...</td>\n",
       "      <td>2018.06.25</td>\n",
       "      <td>2018.06.25</td>\n",
       "      <td>6303.0</td>\n",
       "      <td>NaN</td>\n",
       "      <td>NaN</td>\n",
       "    </tr>\n",
       "    <tr>\n",
       "      <th>1</th>\n",
       "      <td>2018.06.18</td>\n",
       "      <td>18-Jun-2018</td>\n",
       "      <td>2018.0</td>\n",
       "      <td>Unprovoked</td>\n",
       "      <td>USA</td>\n",
       "      <td>Georgia</td>\n",
       "      <td>St. Simon Island, Glynn County</td>\n",
       "      <td>Standing</td>\n",
       "      <td>Adyson McNeely</td>\n",
       "      <td>F</td>\n",
       "      <td>11</td>\n",
       "      <td>Minor injury to left thigh</td>\n",
       "      <td>N</td>\n",
       "      <td>14h00  -15h00</td>\n",
       "      <td>NaN</td>\n",
       "      <td>K.McMurray, TrackingSharks.com</td>\n",
       "      <td>2018.06.18-McNeely.pdf</td>\n",
       "      <td>http://sharkattackfile.net/spreadsheets/pdf_di...</td>\n",
       "      <td>http://sharkattackfile.net/spreadsheets/pdf_di...</td>\n",
       "      <td>2018.06.18</td>\n",
       "      <td>2018.06.18</td>\n",
       "      <td>6302.0</td>\n",
       "      <td>NaN</td>\n",
       "      <td>NaN</td>\n",
       "    </tr>\n",
       "  </tbody>\n",
       "</table>\n",
       "</div>"
      ],
      "text/plain": [
       "  Case Number         Date    Year        Type Country        Area  \\\n",
       "0  2018.06.25  25-Jun-2018  2018.0     Boating     USA  California   \n",
       "1  2018.06.18  18-Jun-2018  2018.0  Unprovoked     USA     Georgia   \n",
       "\n",
       "                         Location  Activity             Name Sex  Age  \\\n",
       "0     Oceanside, San Diego County  Paddling      Julie Wolfe    F  57   \n",
       "1  St. Simon Island, Glynn County  Standing  Adyson McNeely     F  11   \n",
       "\n",
       "                                              Injury Fatal (Y/N)  \\\n",
       "0  No injury to occupant, outrigger canoe and pad...           N   \n",
       "1                         Minor injury to left thigh           N   \n",
       "\n",
       "            Time     Species           Investigator or Source  \\\n",
       "0          18h00  White shark                R. Collier, GSAF   \n",
       "1  14h00  -15h00          NaN  K.McMurray, TrackingSharks.com   \n",
       "\n",
       "                      pdf                                       href formula  \\\n",
       "0    2018.06.25-Wolfe.pdf  http://sharkattackfile.net/spreadsheets/pdf_di...   \n",
       "1  2018.06.18-McNeely.pdf  http://sharkattackfile.net/spreadsheets/pdf_di...   \n",
       "\n",
       "                                                href Case Number.1  \\\n",
       "0  http://sharkattackfile.net/spreadsheets/pdf_di...    2018.06.25   \n",
       "1  http://sharkattackfile.net/spreadsheets/pdf_di...    2018.06.18   \n",
       "\n",
       "  Case Number.2  original order Unnamed: 22 Unnamed: 23  \n",
       "0    2018.06.25          6303.0         NaN         NaN  \n",
       "1    2018.06.18          6302.0         NaN         NaN  "
      ]
     },
     "execution_count": 92,
     "metadata": {},
     "output_type": "execute_result"
    }
   ],
   "source": [
    "#Tratamento para ver todas as colunas\n",
    "pd.set_option('display.max_columns', None)\n",
    "shark.head(2)"
   ]
  },
  {
   "cell_type": "code",
   "execution_count": 360,
   "id": "c14bb425",
   "metadata": {
    "ExecuteTime": {
     "end_time": "2022-11-01T21:03:20.729095Z",
     "start_time": "2022-11-01T21:03:20.705669Z"
    },
    "hidden": true,
    "scrolled": true
   },
   "outputs": [
    {
     "data": {
      "text/plain": [
       "Case Number    object\n",
       "Date           object\n",
       "Year            int64\n",
       "Type           object\n",
       "Country        object\n",
       "Area           object\n",
       "Location       object\n",
       "Activity       object\n",
       "Name           object\n",
       "Genero         object\n",
       "Age            object\n",
       "Injury         object\n",
       "Fatal (Y/N)    object\n",
       "Time           object\n",
       "Species        object\n",
       "dtype: object"
      ]
     },
     "execution_count": 360,
     "metadata": {},
     "output_type": "execute_result"
    }
   ],
   "source": [
    "# Visualizando os tipos\n",
    "shark.dtypes"
   ]
  },
  {
   "cell_type": "markdown",
   "id": "63dac158",
   "metadata": {
    "heading_collapsed": true
   },
   "source": [
    "# Limpeza dos Dados"
   ]
  },
  {
   "cell_type": "markdown",
   "id": "f6949020",
   "metadata": {
    "ExecuteTime": {
     "end_time": "2022-10-29T14:11:46.611951Z",
     "start_time": "2022-10-29T14:11:46.598993Z"
    },
    "heading_collapsed": true,
    "hidden": true
   },
   "source": [
    "## Verificação de dados ausentes/nulos"
   ]
  },
  {
   "cell_type": "markdown",
   "id": "3dfe9871",
   "metadata": {
    "hidden": true
   },
   "source": [
    "**1) Shape**: informar a quantidade de linhas e colunas; <br>\n",
    "**2) Soma** to total de células sem dados ou nulos;<br>\n",
    "**3) Lista** de colunas com valores ausentes; e <br>\n",
    "**4) Porcentagem** dos valores que estão faltando por colunas."
   ]
  },
  {
   "cell_type": "code",
   "execution_count": 94,
   "id": "aafec32c",
   "metadata": {
    "ExecuteTime": {
     "end_time": "2022-11-01T18:57:36.331981Z",
     "start_time": "2022-11-01T18:57:36.318636Z"
    },
    "cell_style": "split",
    "hidden": true
   },
   "outputs": [
    {
     "data": {
      "text/plain": [
       "(25723, 24)"
      ]
     },
     "execution_count": 94,
     "metadata": {},
     "output_type": "execute_result"
    }
   ],
   "source": [
    "# 1) Total de linhas e colunas do dataset\n",
    "shark.shape"
   ]
  },
  {
   "cell_type": "code",
   "execution_count": 95,
   "id": "bc06d3b2",
   "metadata": {
    "ExecuteTime": {
     "end_time": "2022-11-01T18:57:36.440102Z",
     "start_time": "2022-11-01T18:57:36.334651Z"
    },
    "cell_style": "split",
    "hidden": true
   },
   "outputs": [
    {
     "data": {
      "text/plain": [
       "488276"
      ]
     },
     "execution_count": 95,
     "metadata": {},
     "output_type": "execute_result"
    }
   ],
   "source": [
    "# 2) Total de valores ausentes (488.276)\n",
    "shark.isnull().sum().sum()"
   ]
  },
  {
   "cell_type": "code",
   "execution_count": 96,
   "id": "760d30e9",
   "metadata": {
    "ExecuteTime": {
     "end_time": "2022-11-01T18:57:36.578769Z",
     "start_time": "2022-11-01T18:57:36.443618Z"
    },
    "cell_style": "split",
    "hidden": true
   },
   "outputs": [
    {
     "data": {
      "text/plain": [
       "Case Number               17021\n",
       "Date                      19421\n",
       "Year                      19423\n",
       "Type                      19425\n",
       "Country                   19471\n",
       "Area                      19876\n",
       "Location                  19961\n",
       "Activity                  19965\n",
       "Name                      19631\n",
       "Sex                       19986\n",
       "Age                       22252\n",
       "Injury                    19449\n",
       "Fatal (Y/N)               19960\n",
       "Time                      22775\n",
       "Species                   22259\n",
       "Investigator or Source    19438\n",
       "pdf                       19421\n",
       "href formula              19422\n",
       "href                      19421\n",
       "Case Number.1             19421\n",
       "Case Number.2             19421\n",
       "original order            19414\n",
       "Unnamed: 22               25722\n",
       "Unnamed: 23               25721\n",
       "dtype: int64"
      ]
     },
     "execution_count": 96,
     "metadata": {},
     "output_type": "execute_result"
    }
   ],
   "source": [
    "# 3) Lista das colunas com valores ausentes\n",
    "shark.isnull().sum()"
   ]
  },
  {
   "cell_type": "code",
   "execution_count": 97,
   "id": "5e8f0ed8",
   "metadata": {
    "ExecuteTime": {
     "end_time": "2022-11-01T18:57:36.702590Z",
     "start_time": "2022-11-01T18:57:36.582118Z"
    },
    "cell_style": "split",
    "hidden": true
   },
   "outputs": [
    {
     "data": {
      "text/plain": [
       "Case Number               0.661704\n",
       "Date                      0.755005\n",
       "Year                      0.755083\n",
       "Type                      0.755161\n",
       "Country                   0.756949\n",
       "Area                      0.772694\n",
       "Location                  0.775998\n",
       "Activity                  0.776154\n",
       "Name                      0.763169\n",
       "Sex                       0.776970\n",
       "Age                       0.865062\n",
       "Injury                    0.756094\n",
       "Fatal (Y/N)               0.775959\n",
       "Time                      0.885394\n",
       "Species                   0.865335\n",
       "Investigator or Source    0.755666\n",
       "pdf                       0.755005\n",
       "href formula              0.755044\n",
       "href                      0.755005\n",
       "Case Number.1             0.755005\n",
       "Case Number.2             0.755005\n",
       "original order            0.754733\n",
       "Unnamed: 22               0.999961\n",
       "Unnamed: 23               0.999922\n",
       "dtype: float64"
      ]
     },
     "execution_count": 97,
     "metadata": {},
     "output_type": "execute_result"
    }
   ],
   "source": [
    "# 4) Porcentagem de valores que estão faltando\n",
    "shark.isna().mean()"
   ]
  },
  {
   "cell_type": "markdown",
   "id": "2fae8f88",
   "metadata": {
    "hidden": true
   },
   "source": [
    "Pela análise acima, é possível identificar que as colunas `Unnamed: 22`, `Unnamed: 22`, `original order`, `Case Number.1` e `Case Number.2` estão praticamente vazias. <br>\n",
    "<br>\n",
    "Como não serão colunas que são importantes para responder perguntas que este trabalho se propõe, o código seguinte resolve:\n",
    "<br>"
   ]
  },
  {
   "cell_type": "code",
   "execution_count": 98,
   "id": "6c15f1b5",
   "metadata": {
    "ExecuteTime": {
     "end_time": "2022-11-01T18:57:36.732848Z",
     "start_time": "2022-11-01T18:57:36.704293Z"
    },
    "hidden": true
   },
   "outputs": [
    {
     "data": {
      "text/html": [
       "<div>\n",
       "<style scoped>\n",
       "    .dataframe tbody tr th:only-of-type {\n",
       "        vertical-align: middle;\n",
       "    }\n",
       "\n",
       "    .dataframe tbody tr th {\n",
       "        vertical-align: top;\n",
       "    }\n",
       "\n",
       "    .dataframe thead th {\n",
       "        text-align: right;\n",
       "    }\n",
       "</style>\n",
       "<table border=\"1\" class=\"dataframe\">\n",
       "  <thead>\n",
       "    <tr style=\"text-align: right;\">\n",
       "      <th></th>\n",
       "      <th>Case Number</th>\n",
       "      <th>Date</th>\n",
       "      <th>Year</th>\n",
       "      <th>Type</th>\n",
       "      <th>Country</th>\n",
       "      <th>Area</th>\n",
       "      <th>Location</th>\n",
       "      <th>Activity</th>\n",
       "      <th>Name</th>\n",
       "      <th>Sex</th>\n",
       "      <th>Age</th>\n",
       "      <th>Injury</th>\n",
       "      <th>Fatal (Y/N)</th>\n",
       "      <th>Time</th>\n",
       "      <th>Species</th>\n",
       "    </tr>\n",
       "  </thead>\n",
       "  <tbody>\n",
       "    <tr>\n",
       "      <th>0</th>\n",
       "      <td>2018.06.25</td>\n",
       "      <td>25-Jun-2018</td>\n",
       "      <td>2018.0</td>\n",
       "      <td>Boating</td>\n",
       "      <td>USA</td>\n",
       "      <td>California</td>\n",
       "      <td>Oceanside, San Diego County</td>\n",
       "      <td>Paddling</td>\n",
       "      <td>Julie Wolfe</td>\n",
       "      <td>F</td>\n",
       "      <td>57</td>\n",
       "      <td>No injury to occupant, outrigger canoe and pad...</td>\n",
       "      <td>N</td>\n",
       "      <td>18h00</td>\n",
       "      <td>White shark</td>\n",
       "    </tr>\n",
       "    <tr>\n",
       "      <th>1</th>\n",
       "      <td>2018.06.18</td>\n",
       "      <td>18-Jun-2018</td>\n",
       "      <td>2018.0</td>\n",
       "      <td>Unprovoked</td>\n",
       "      <td>USA</td>\n",
       "      <td>Georgia</td>\n",
       "      <td>St. Simon Island, Glynn County</td>\n",
       "      <td>Standing</td>\n",
       "      <td>Adyson McNeely</td>\n",
       "      <td>F</td>\n",
       "      <td>11</td>\n",
       "      <td>Minor injury to left thigh</td>\n",
       "      <td>N</td>\n",
       "      <td>14h00  -15h00</td>\n",
       "      <td>NaN</td>\n",
       "    </tr>\n",
       "    <tr>\n",
       "      <th>2</th>\n",
       "      <td>2018.06.09</td>\n",
       "      <td>09-Jun-2018</td>\n",
       "      <td>2018.0</td>\n",
       "      <td>Invalid</td>\n",
       "      <td>USA</td>\n",
       "      <td>Hawaii</td>\n",
       "      <td>Habush, Oahu</td>\n",
       "      <td>Surfing</td>\n",
       "      <td>John Denges</td>\n",
       "      <td>M</td>\n",
       "      <td>48</td>\n",
       "      <td>Injury to left lower leg from surfboard skeg</td>\n",
       "      <td>N</td>\n",
       "      <td>07h45</td>\n",
       "      <td>NaN</td>\n",
       "    </tr>\n",
       "  </tbody>\n",
       "</table>\n",
       "</div>"
      ],
      "text/plain": [
       "  Case Number         Date    Year        Type Country        Area  \\\n",
       "0  2018.06.25  25-Jun-2018  2018.0     Boating     USA  California   \n",
       "1  2018.06.18  18-Jun-2018  2018.0  Unprovoked     USA     Georgia   \n",
       "2  2018.06.09  09-Jun-2018  2018.0     Invalid     USA      Hawaii   \n",
       "\n",
       "                         Location  Activity             Name Sex  Age  \\\n",
       "0     Oceanside, San Diego County  Paddling      Julie Wolfe    F  57   \n",
       "1  St. Simon Island, Glynn County  Standing  Adyson McNeely     F  11   \n",
       "2                    Habush, Oahu   Surfing      John Denges    M  48   \n",
       "\n",
       "                                              Injury Fatal (Y/N)  \\\n",
       "0  No injury to occupant, outrigger canoe and pad...           N   \n",
       "1                         Minor injury to left thigh           N   \n",
       "2       Injury to left lower leg from surfboard skeg           N   \n",
       "\n",
       "            Time     Species   \n",
       "0          18h00  White shark  \n",
       "1  14h00  -15h00          NaN  \n",
       "2          07h45          NaN  "
      ]
     },
     "execution_count": 98,
     "metadata": {},
     "output_type": "execute_result"
    }
   ],
   "source": [
    "# Para essa análise, vai ser usado somente as colunas de Date até Species \n",
    "shark = shark.loc[:,\"Case Number\":\"Species \"]\n",
    "shark.head(3)"
   ]
  },
  {
   "cell_type": "markdown",
   "id": "f6cfc90b",
   "metadata": {
    "heading_collapsed": true,
    "hidden": true
   },
   "source": [
    "## Necessário também remover linhas vazias"
   ]
  },
  {
   "cell_type": "code",
   "execution_count": 99,
   "id": "4606636c",
   "metadata": {
    "ExecuteTime": {
     "end_time": "2022-11-01T18:57:36.809527Z",
     "start_time": "2022-11-01T18:57:36.735543Z"
    },
    "hidden": true
   },
   "outputs": [],
   "source": [
    "# Agora o restante dos valores nulos podem ser removidos\n",
    "remov_rows = shark.dropna(how='all', inplace=True)"
   ]
  },
  {
   "cell_type": "code",
   "execution_count": 100,
   "id": "938ac0fb",
   "metadata": {
    "ExecuteTime": {
     "end_time": "2022-11-01T18:57:36.825577Z",
     "start_time": "2022-11-01T18:57:36.811522Z"
    },
    "hidden": true,
    "scrolled": true
   },
   "outputs": [
    {
     "data": {
      "text/plain": [
       "(8703, 15)"
      ]
     },
     "execution_count": 100,
     "metadata": {},
     "output_type": "execute_result"
    }
   ],
   "source": [
    "shark.shape"
   ]
  },
  {
   "cell_type": "markdown",
   "id": "f50e98cc",
   "metadata": {
    "heading_collapsed": true,
    "hidden": true
   },
   "source": [
    "## Limpeza a coluna `Year`"
   ]
  },
  {
   "cell_type": "code",
   "execution_count": 101,
   "id": "87eb2d29",
   "metadata": {
    "ExecuteTime": {
     "end_time": "2022-11-01T18:57:36.840583Z",
     "start_time": "2022-11-01T18:57:36.827625Z"
    },
    "cell_style": "split",
    "hidden": true
   },
   "outputs": [
    {
     "data": {
      "text/plain": [
       "6288"
      ]
     },
     "execution_count": 101,
     "metadata": {},
     "output_type": "execute_result"
    }
   ],
   "source": [
    "# Quantos valores estão na coluna 'Case Number'\n",
    "len(set(shark['Case Number']))"
   ]
  },
  {
   "cell_type": "code",
   "execution_count": 102,
   "id": "687ab973",
   "metadata": {
    "ExecuteTime": {
     "end_time": "2022-11-01T18:57:36.932821Z",
     "start_time": "2022-11-01T18:57:36.844567Z"
    },
    "cell_style": "split",
    "hidden": true
   },
   "outputs": [
    {
     "data": {
      "text/plain": [
       "2652"
      ]
     },
     "execution_count": 102,
     "metadata": {},
     "output_type": "execute_result"
    }
   ],
   "source": [
    "# Quantos valores estão na coluna 'Year'\n",
    "len(set(shark['Year']))"
   ]
  },
  {
   "cell_type": "markdown",
   "id": "a5e94f56",
   "metadata": {
    "ExecuteTime": {
     "end_time": "2022-10-30T18:39:11.194285Z",
     "start_time": "2022-10-30T18:39:11.187064Z"
    },
    "hidden": true
   },
   "source": [
    "Como a coluna **'Year'** é uma coluna fundamental para esta análise, será necessário inspecioná-la"
   ]
  },
  {
   "cell_type": "code",
   "execution_count": 103,
   "id": "069cb48e",
   "metadata": {
    "ExecuteTime": {
     "end_time": "2022-11-01T18:57:36.948376Z",
     "start_time": "2022-11-01T18:57:36.935333Z"
    },
    "hidden": true,
    "scrolled": false
   },
   "outputs": [
    {
     "data": {
      "text/plain": [
       "array([2018., 2017.,   nan, 2016., 2015., 2014., 2013., 2012., 2011.,\n",
       "       2010., 2009., 2008., 2007., 2006., 2005., 2004., 2003., 2002.,\n",
       "       2001., 2000., 1999., 1998., 1997., 1996., 1995., 1984., 1994.,\n",
       "       1993., 1992., 1991., 1990., 1989., 1969., 1988., 1987., 1986.,\n",
       "       1985., 1983., 1982., 1981., 1980., 1979., 1978., 1977., 1976.,\n",
       "       1975., 1974., 1973., 1972., 1971., 1970., 1968., 1967., 1966.,\n",
       "       1965., 1964., 1963., 1962., 1961., 1960., 1959., 1958., 1957.,\n",
       "       1956., 1955., 1954., 1953., 1952., 1951., 1950., 1949., 1948.,\n",
       "       1848., 1947., 1946., 1945., 1944., 1943., 1942., 1941., 1940.,\n",
       "       1939., 1938., 1937., 1936., 1935., 1934., 1933., 1932., 1931.,\n",
       "       1930., 1929., 1928., 1927., 1926., 1925., 1924., 1923., 1922.,\n",
       "       1921., 1920., 1919., 1918., 1917., 1916., 1915., 1914., 1913.,\n",
       "       1912., 1911., 1910., 1909., 1908., 1907., 1906., 1905., 1904.,\n",
       "       1903., 1902., 1901., 1900., 1899., 1898., 1897., 1896., 1895.,\n",
       "       1894., 1893., 1892., 1891., 1890., 1889., 1888., 1887., 1886.,\n",
       "       1885., 1884., 1883., 1882., 1881., 1880., 1879., 1878., 1877.,\n",
       "       1876., 1875., 1874., 1873., 1872., 1871., 1870., 1869., 1868.,\n",
       "       1867., 1866., 1865., 1864., 1863., 1862., 1861., 1860., 1859.,\n",
       "       1858., 1857., 1856., 1855., 1853., 1852., 1851., 1850., 1849.,\n",
       "       1847., 1846., 1845., 1844., 1842., 1841., 1840., 1839., 1837.,\n",
       "       1836., 1835., 1834., 1832., 1831., 1830., 1829., 1828., 1827.,\n",
       "       1826., 1825., 1823., 1822., 1819., 1818., 1817., 1816., 1815.,\n",
       "       1812., 1811., 1810., 1808., 1807., 1805., 1804., 1803., 1802.,\n",
       "       1801., 1800., 1797., 1792., 1791., 1788., 1787., 1786., 1785.,\n",
       "       1784., 1783., 1780., 1779., 1776., 1771., 1767., 1764., 1758.,\n",
       "       1753., 1751., 1749., 1755., 1748., 1742., 1738., 1733., 1723.,\n",
       "       1721., 1703., 1700., 1642., 1638., 1637., 1617., 1595., 1580.,\n",
       "       1555., 1554., 1543.,  500.,   77.,    5.,    0.])"
      ]
     },
     "execution_count": 103,
     "metadata": {},
     "output_type": "execute_result"
    }
   ],
   "source": [
    "# Verificando valores unicos\n",
    "shark['Year'].unique()"
   ]
  },
  {
   "cell_type": "markdown",
   "id": "343df5f8",
   "metadata": {
    "hidden": true
   },
   "source": [
    "Será necessário transformá-la em int64 e verificar os valores:"
   ]
  },
  {
   "cell_type": "code",
   "execution_count": 104,
   "id": "24b71d40",
   "metadata": {
    "ExecuteTime": {
     "end_time": "2022-11-01T18:57:37.010905Z",
     "start_time": "2022-11-01T18:57:36.953488Z"
    },
    "hidden": true
   },
   "outputs": [],
   "source": [
    "# Transformando a coluna 'Year' de float64 para int64 com o método 'astype'\n",
    "shark = shark.fillna(0)\n",
    "shark.Year.astype(int)\n",
    "shark['Year'] = shark['Year'].astype('int64')"
   ]
  },
  {
   "cell_type": "code",
   "execution_count": 105,
   "id": "8426d8cd",
   "metadata": {
    "ExecuteTime": {
     "end_time": "2022-11-01T18:57:37.025743Z",
     "start_time": "2022-11-01T18:57:37.013900Z"
    },
    "hidden": true
   },
   "outputs": [
    {
     "data": {
      "text/plain": [
       "(8703, 15)"
      ]
     },
     "execution_count": 105,
     "metadata": {},
     "output_type": "execute_result"
    }
   ],
   "source": [
    "shark.shape"
   ]
  },
  {
   "cell_type": "code",
   "execution_count": 106,
   "id": "130ac80f",
   "metadata": {
    "ExecuteTime": {
     "end_time": "2022-11-01T18:57:37.041281Z",
     "start_time": "2022-11-01T18:57:37.028184Z"
    },
    "hidden": true
   },
   "outputs": [
    {
     "data": {
      "text/plain": [
       "dtype('int64')"
      ]
     },
     "execution_count": 106,
     "metadata": {},
     "output_type": "execute_result"
    }
   ],
   "source": [
    "# Verificando o tipo\n",
    "shark['Year'].dtypes"
   ]
  },
  {
   "cell_type": "code",
   "execution_count": 107,
   "id": "93a3febf",
   "metadata": {
    "ExecuteTime": {
     "end_time": "2022-11-01T18:57:37.056475Z",
     "start_time": "2022-11-01T18:57:37.044850Z"
    },
    "hidden": true
   },
   "outputs": [
    {
     "data": {
      "text/plain": [
       "array([2018, 2017,    0, 2016, 2015, 2014, 2013, 2012, 2011, 2010, 2009,\n",
       "       2008, 2007, 2006, 2005, 2004, 2003, 2002, 2001, 2000, 1999, 1998,\n",
       "       1997, 1996, 1995, 1984, 1994, 1993, 1992, 1991, 1990, 1989, 1969,\n",
       "       1988, 1987, 1986, 1985, 1983, 1982, 1981, 1980, 1979, 1978, 1977,\n",
       "       1976, 1975, 1974, 1973, 1972, 1971, 1970, 1968, 1967, 1966, 1965,\n",
       "       1964, 1963, 1962, 1961, 1960, 1959, 1958, 1957, 1956, 1955, 1954,\n",
       "       1953, 1952, 1951, 1950, 1949, 1948, 1848, 1947, 1946, 1945, 1944,\n",
       "       1943, 1942, 1941, 1940, 1939, 1938, 1937, 1936, 1935, 1934, 1933,\n",
       "       1932, 1931, 1930, 1929, 1928, 1927, 1926, 1925, 1924, 1923, 1922,\n",
       "       1921, 1920, 1919, 1918, 1917, 1916, 1915, 1914, 1913, 1912, 1911,\n",
       "       1910, 1909, 1908, 1907, 1906, 1905, 1904, 1903, 1902, 1901, 1900,\n",
       "       1899, 1898, 1897, 1896, 1895, 1894, 1893, 1892, 1891, 1890, 1889,\n",
       "       1888, 1887, 1886, 1885, 1884, 1883, 1882, 1881, 1880, 1879, 1878,\n",
       "       1877, 1876, 1875, 1874, 1873, 1872, 1871, 1870, 1869, 1868, 1867,\n",
       "       1866, 1865, 1864, 1863, 1862, 1861, 1860, 1859, 1858, 1857, 1856,\n",
       "       1855, 1853, 1852, 1851, 1850, 1849, 1847, 1846, 1845, 1844, 1842,\n",
       "       1841, 1840, 1839, 1837, 1836, 1835, 1834, 1832, 1831, 1830, 1829,\n",
       "       1828, 1827, 1826, 1825, 1823, 1822, 1819, 1818, 1817, 1816, 1815,\n",
       "       1812, 1811, 1810, 1808, 1807, 1805, 1804, 1803, 1802, 1801, 1800,\n",
       "       1797, 1792, 1791, 1788, 1787, 1786, 1785, 1784, 1783, 1780, 1779,\n",
       "       1776, 1771, 1767, 1764, 1758, 1753, 1751, 1749, 1755, 1748, 1742,\n",
       "       1738, 1733, 1723, 1721, 1703, 1700, 1642, 1638, 1637, 1617, 1595,\n",
       "       1580, 1555, 1554, 1543,  500,   77,    5], dtype=int64)"
      ]
     },
     "execution_count": 107,
     "metadata": {},
     "output_type": "execute_result"
    }
   ],
   "source": [
    "# Verificando valores unicos\n",
    "shark['Year'].unique()"
   ]
  },
  {
   "cell_type": "code",
   "execution_count": 108,
   "id": "7a9d7051",
   "metadata": {
    "ExecuteTime": {
     "end_time": "2022-11-01T18:57:37.088377Z",
     "start_time": "2022-11-01T18:57:37.059438Z"
    },
    "hidden": true
   },
   "outputs": [
    {
     "data": {
      "text/plain": [
       "array([2018, 2017, 2016, 2015, 2014, 2013, 2012, 2011, 2010, 2009, 2008,\n",
       "       2007, 2006, 2005, 2004, 2003, 2002, 2001, 2000, 1999, 1998, 1997,\n",
       "       1996, 1995, 1984, 1994, 1993, 1992, 1991, 1990, 1989, 1969, 1988,\n",
       "       1987, 1986, 1985, 1983, 1982, 1981, 1980, 1979, 1978, 1977, 1976,\n",
       "       1975, 1974, 1973, 1972, 1971, 1970, 1968, 1967, 1966, 1965, 1964,\n",
       "       1963, 1962, 1961, 1960, 1959, 1958, 1957, 1956, 1955, 1954, 1953,\n",
       "       1952, 1951, 1950, 1949, 1948, 1848, 1947, 1946, 1945, 1944, 1943,\n",
       "       1942, 1941, 1940, 1939, 1938, 1937, 1936, 1935, 1934, 1933, 1932,\n",
       "       1931, 1930, 1929, 1928, 1927, 1926, 1925, 1924, 1923, 1922, 1921,\n",
       "       1920, 1919, 1918, 1917, 1916, 1915, 1914, 1913, 1912, 1911, 1910,\n",
       "       1909, 1908, 1907, 1906, 1905, 1904, 1903, 1902, 1901, 1900, 1899,\n",
       "       1898, 1897, 1896, 1895, 1894, 1893, 1892, 1891, 1890, 1889, 1888,\n",
       "       1887, 1886, 1885, 1884, 1883, 1882, 1881, 1880, 1879, 1878, 1877,\n",
       "       1876, 1875, 1874, 1873, 1872, 1871, 1870, 1869, 1868, 1867, 1866,\n",
       "       1865, 1864, 1863, 1862, 1861, 1860, 1859, 1858, 1857, 1856, 1855,\n",
       "       1853, 1852, 1851, 1850, 1849, 1847, 1846, 1845, 1844, 1842, 1841,\n",
       "       1840, 1839, 1837, 1836, 1835, 1834, 1832, 1831, 1830, 1829, 1828,\n",
       "       1827, 1826, 1825, 1823, 1822, 1819, 1818, 1817, 1816, 1815, 1812,\n",
       "       1811, 1810, 1808, 1807, 1805, 1804, 1803, 1802, 1801, 1800, 1797,\n",
       "       1792, 1791, 1788, 1787, 1786, 1785, 1784, 1783, 1780, 1779, 1776,\n",
       "       1771, 1767, 1764, 1758, 1753, 1751, 1749, 1755, 1748, 1742, 1738,\n",
       "       1733, 1723, 1721, 1703, 1700, 1642, 1638, 1637, 1617, 1595, 1580,\n",
       "       1555, 1554, 1543], dtype=int64)"
      ]
     },
     "execution_count": 108,
     "metadata": {},
     "output_type": "execute_result"
    }
   ],
   "source": [
    "# Limpeza da coluna 'Year' para apenas ficar dados depois de 1543\n",
    "shark = shark[shark['Year'] >= 1543]\n",
    "shark['Year'].unique()"
   ]
  },
  {
   "cell_type": "markdown",
   "id": "527edf91",
   "metadata": {
    "heading_collapsed": true,
    "hidden": true
   },
   "source": [
    "## Renomeando as colunas `Sex` e `Species`"
   ]
  },
  {
   "cell_type": "code",
   "execution_count": 109,
   "id": "601d7c58",
   "metadata": {
    "ExecuteTime": {
     "end_time": "2022-11-01T18:57:37.103748Z",
     "start_time": "2022-11-01T18:57:37.090877Z"
    },
    "hidden": true
   },
   "outputs": [],
   "source": [
    "# Tratamento: Removendo os espaços das colunas e renomeando Sex para Genero\n",
    "shark = shark.rename(columns={'Sex ':'Genero','Species ':'Species'})"
   ]
  },
  {
   "cell_type": "code",
   "execution_count": 110,
   "id": "4ef600b7",
   "metadata": {
    "ExecuteTime": {
     "end_time": "2022-11-01T18:57:37.119522Z",
     "start_time": "2022-11-01T18:57:37.107237Z"
    },
    "hidden": true
   },
   "outputs": [
    {
     "data": {
      "text/plain": [
       "Index(['Case Number', 'Date', 'Year', 'Type', 'Country', 'Area', 'Location',\n",
       "       'Activity', 'Name', 'Genero', 'Age', 'Injury', 'Fatal (Y/N)', 'Time',\n",
       "       'Species'],\n",
       "      dtype='object')"
      ]
     },
     "execution_count": 110,
     "metadata": {},
     "output_type": "execute_result"
    }
   ],
   "source": [
    "shark.columns"
   ]
  },
  {
   "cell_type": "markdown",
   "id": "38734a00",
   "metadata": {
    "ExecuteTime": {
     "end_time": "2022-11-01T21:07:02.408168Z",
     "start_time": "2022-11-01T21:07:02.400084Z"
    },
    "heading_collapsed": true,
    "hidden": true
   },
   "source": [
    "## Tratando a coluna `Genero`"
   ]
  },
  {
   "cell_type": "code",
   "execution_count": 111,
   "id": "231d65a8",
   "metadata": {
    "ExecuteTime": {
     "end_time": "2022-11-01T18:57:37.134533Z",
     "start_time": "2022-11-01T18:57:37.123773Z"
    },
    "hidden": true
   },
   "outputs": [
    {
     "data": {
      "text/plain": [
       "array(['F', 'M', 0, 'M ', 'lli', 'N', '.'], dtype=object)"
      ]
     },
     "execution_count": 111,
     "metadata": {},
     "output_type": "execute_result"
    }
   ],
   "source": [
    "# Será necessário mudar os nomes 'F' -> \"Feminino\", 'M' ou 'M ' -> 'Masculino' e 0, 'lli', 'N' e '.' -> Desconhecido\n",
    "shark['Genero'].unique()"
   ]
  },
  {
   "cell_type": "code",
   "execution_count": 112,
   "id": "edf991fc",
   "metadata": {
    "ExecuteTime": {
     "end_time": "2022-11-01T18:57:37.165748Z",
     "start_time": "2022-11-01T18:57:37.142039Z"
    },
    "hidden": true
   },
   "outputs": [],
   "source": [
    "# removendo o espaço da string 'M '\n",
    "shark['Genero'] = shark['Genero'].str.replace(' ', '', regex=True)"
   ]
  },
  {
   "cell_type": "code",
   "execution_count": 113,
   "id": "20dc5f67",
   "metadata": {
    "ExecuteTime": {
     "end_time": "2022-11-01T18:57:37.180513Z",
     "start_time": "2022-11-01T18:57:37.168470Z"
    },
    "hidden": true,
    "scrolled": true
   },
   "outputs": [
    {
     "data": {
      "text/plain": [
       "M      4987\n",
       "F       624\n",
       "N         2\n",
       "lli       1\n",
       ".         1\n",
       "Name: Genero, dtype: int64"
      ]
     },
     "execution_count": 113,
     "metadata": {},
     "output_type": "execute_result"
    }
   ],
   "source": [
    "# 'M ' removido\n",
    "shark['Genero'].value_counts()"
   ]
  },
  {
   "cell_type": "code",
   "execution_count": 114,
   "id": "2534d8d0",
   "metadata": {
    "ExecuteTime": {
     "end_time": "2022-11-01T18:57:37.211992Z",
     "start_time": "2022-11-01T18:57:37.182851Z"
    },
    "code_folding": [],
    "hidden": true,
    "scrolled": false
   },
   "outputs": [
    {
     "data": {
      "text/html": [
       "<div>\n",
       "<style scoped>\n",
       "    .dataframe tbody tr th:only-of-type {\n",
       "        vertical-align: middle;\n",
       "    }\n",
       "\n",
       "    .dataframe tbody tr th {\n",
       "        vertical-align: top;\n",
       "    }\n",
       "\n",
       "    .dataframe thead th {\n",
       "        text-align: right;\n",
       "    }\n",
       "</style>\n",
       "<table border=\"1\" class=\"dataframe\">\n",
       "  <thead>\n",
       "    <tr style=\"text-align: right;\">\n",
       "      <th></th>\n",
       "      <th>Case Number</th>\n",
       "      <th>Date</th>\n",
       "      <th>Year</th>\n",
       "      <th>Type</th>\n",
       "      <th>Country</th>\n",
       "      <th>Area</th>\n",
       "      <th>Location</th>\n",
       "      <th>Activity</th>\n",
       "      <th>Name</th>\n",
       "      <th>Genero</th>\n",
       "      <th>Age</th>\n",
       "      <th>Injury</th>\n",
       "      <th>Fatal (Y/N)</th>\n",
       "      <th>Time</th>\n",
       "      <th>Species</th>\n",
       "    </tr>\n",
       "  </thead>\n",
       "  <tbody>\n",
       "    <tr>\n",
       "      <th>1624</th>\n",
       "      <td>2004.11.11.b</td>\n",
       "      <td>11-Nov-2004</td>\n",
       "      <td>2004</td>\n",
       "      <td>Unprovoked</td>\n",
       "      <td>USA</td>\n",
       "      <td>California</td>\n",
       "      <td>Bunkers, Humboldt Bay, Eureka, Humboldt County</td>\n",
       "      <td>Surfing</td>\n",
       "      <td>Brian Kang</td>\n",
       "      <td>lli</td>\n",
       "      <td>38</td>\n",
       "      <td>Lacerations to hand, knee &amp; thigh</td>\n",
       "      <td>N</td>\n",
       "      <td>13h30</td>\n",
       "      <td>5.5 m [18'] white shark</td>\n",
       "    </tr>\n",
       "  </tbody>\n",
       "</table>\n",
       "</div>"
      ],
      "text/plain": [
       "       Case Number         Date  Year        Type Country        Area  \\\n",
       "1624  2004.11.11.b  11-Nov-2004  2004  Unprovoked     USA  California   \n",
       "\n",
       "                                            Location Activity        Name  \\\n",
       "1624  Bunkers, Humboldt Bay, Eureka, Humboldt County  Surfing  Brian Kang   \n",
       "\n",
       "     Genero Age                              Injury Fatal (Y/N)   Time  \\\n",
       "1624    lli  38  Lacerations to hand, knee & thigh            N  13h30   \n",
       "\n",
       "                      Species  \n",
       "1624  5.5 m [18'] white shark  "
      ]
     },
     "execution_count": 114,
     "metadata": {},
     "output_type": "execute_result"
    }
   ],
   "source": [
    "#Localizar a string 'lli'\n",
    "shark.loc[shark['Genero']=='lli']"
   ]
  },
  {
   "cell_type": "code",
   "execution_count": 115,
   "id": "ab97e9e9",
   "metadata": {
    "ExecuteTime": {
     "end_time": "2022-11-01T18:57:37.273444Z",
     "start_time": "2022-11-01T18:57:37.215385Z"
    },
    "hidden": true
   },
   "outputs": [
    {
     "data": {
      "text/plain": [
       "array(['Female', 'Male', 'Unknown'], dtype=object)"
      ]
     },
     "execution_count": 115,
     "metadata": {},
     "output_type": "execute_result"
    }
   ],
   "source": [
    "# Mudando os nomes das strings 'M', 'F', 'N', 'lli' e '.'\n",
    "# Valore nan para 'Unknonw'\n",
    "shark['Genero'] = shark['Genero'].fillna(\"Unknown\")\n",
    "\n",
    "# Valores 'M', 'lli', 'N' para 'Male  \n",
    "shark['Genero']=shark['Genero'].str.replace('M', 'Male', regex=True)\n",
    "shark['Genero']=shark['Genero'].str.replace('N', 'Male', regex=True)\n",
    "shark['Genero']=shark['Genero'].str.replace('lli', 'Male', regex=True)\n",
    "\n",
    "# Valor 'F' para 'Female'\n",
    "shark['Genero']=shark['Genero'].str.replace('F', 'Female', regex=True)\n",
    "shark['Genero']=shark['Genero'].str.replace('.', 'Unknown', regex=True)\n",
    "shark['Genero'].unique()"
   ]
  },
  {
   "cell_type": "code",
   "execution_count": 116,
   "id": "e6bfbb2d",
   "metadata": {
    "ExecuteTime": {
     "end_time": "2022-11-01T18:57:37.304035Z",
     "start_time": "2022-11-01T18:57:37.277942Z"
    },
    "hidden": true
   },
   "outputs": [
    {
     "data": {
      "text/plain": [
       "Male       4990\n",
       "Female      624\n",
       "Unknown     558\n",
       "Name: Genero, dtype: int64"
      ]
     },
     "execution_count": 116,
     "metadata": {},
     "output_type": "execute_result"
    }
   ],
   "source": [
    "shark['Genero'].value_counts()"
   ]
  },
  {
   "cell_type": "markdown",
   "id": "bdc50893",
   "metadata": {
    "heading_collapsed": true,
    "hidden": true
   },
   "source": [
    "## Tratando a coluna `Fatal (Y/N)`"
   ]
  },
  {
   "cell_type": "code",
   "execution_count": 386,
   "id": "41025b6e",
   "metadata": {
    "ExecuteTime": {
     "end_time": "2022-11-01T23:02:56.722931Z",
     "start_time": "2022-11-01T23:02:56.703511Z"
    },
    "hidden": true
   },
   "outputs": [],
   "source": [
    "# Removendo espaços\n",
    "shark['Fatal (Y/N)'] = shark['Fatal (Y/N)'].str.replace(' ', '', regex=True)"
   ]
  },
  {
   "cell_type": "code",
   "execution_count": 375,
   "id": "4694c628",
   "metadata": {
    "ExecuteTime": {
     "end_time": "2022-11-01T22:55:59.926257Z",
     "start_time": "2022-11-01T22:55:59.880558Z"
    },
    "hidden": true
   },
   "outputs": [
    {
     "data": {
      "text/html": [
       "<div>\n",
       "<style scoped>\n",
       "    .dataframe tbody tr th:only-of-type {\n",
       "        vertical-align: middle;\n",
       "    }\n",
       "\n",
       "    .dataframe tbody tr th {\n",
       "        vertical-align: top;\n",
       "    }\n",
       "\n",
       "    .dataframe thead th {\n",
       "        text-align: right;\n",
       "    }\n",
       "</style>\n",
       "<table border=\"1\" class=\"dataframe\">\n",
       "  <thead>\n",
       "    <tr style=\"text-align: right;\">\n",
       "      <th></th>\n",
       "      <th>Case Number</th>\n",
       "      <th>Date</th>\n",
       "      <th>Year</th>\n",
       "      <th>Type</th>\n",
       "      <th>Country</th>\n",
       "      <th>Area</th>\n",
       "      <th>Location</th>\n",
       "      <th>Activity</th>\n",
       "      <th>Name</th>\n",
       "      <th>Genero</th>\n",
       "      <th>Age</th>\n",
       "      <th>Injury</th>\n",
       "      <th>Fatal (Y/N)</th>\n",
       "      <th>Time</th>\n",
       "      <th>Species</th>\n",
       "    </tr>\n",
       "  </thead>\n",
       "  <tbody>\n",
       "    <tr>\n",
       "      <th>285</th>\n",
       "      <td>2016.04.18.b</td>\n",
       "      <td>18-Apr-2016</td>\n",
       "      <td>2016</td>\n",
       "      <td>Provoked</td>\n",
       "      <td>FRENCH POLYNESIA</td>\n",
       "      <td>Tuamotos</td>\n",
       "      <td>Makemo Atoll</td>\n",
       "      <td>Spearfishing</td>\n",
       "      <td>Hoata Iotua</td>\n",
       "      <td>Male</td>\n",
       "      <td>22</td>\n",
       "      <td>Laceration to knee by speared shark PROVOKED I...</td>\n",
       "      <td>M</td>\n",
       "      <td>Morning</td>\n",
       "      <td>Grey reef shark, 2 m</td>\n",
       "    </tr>\n",
       "  </tbody>\n",
       "</table>\n",
       "</div>"
      ],
      "text/plain": [
       "      Case Number         Date  Year      Type           Country      Area  \\\n",
       "285  2016.04.18.b  18-Apr-2016  2016  Provoked  FRENCH POLYNESIA  Tuamotos   \n",
       "\n",
       "         Location      Activity         Name Genero Age  \\\n",
       "285  Makemo Atoll  Spearfishing  Hoata Iotua   Male  22   \n",
       "\n",
       "                                                Injury Fatal (Y/N)     Time  \\\n",
       "285  Laceration to knee by speared shark PROVOKED I...           M  Morning   \n",
       "\n",
       "                  Species  \n",
       "285  Grey reef shark, 2 m  "
      ]
     },
     "execution_count": 375,
     "metadata": {},
     "output_type": "execute_result"
    }
   ],
   "source": [
    "shark.loc[shark['Fatal (Y/N)']=='M']"
   ]
  },
  {
   "cell_type": "code",
   "execution_count": 385,
   "id": "6f80b2a1",
   "metadata": {
    "ExecuteTime": {
     "end_time": "2022-11-01T22:58:49.977217Z",
     "start_time": "2022-11-01T22:58:49.971397Z"
    },
    "hidden": true,
    "scrolled": true
   },
   "outputs": [
    {
     "data": {
      "text/plain": [
       "array(['N', 'Y', 'Unknown'], dtype=object)"
      ]
     },
     "execution_count": 385,
     "metadata": {},
     "output_type": "execute_result"
    }
   ],
   "source": [
    "shark['Fatal (Y/N)'].unique()"
   ]
  },
  {
   "cell_type": "code",
   "execution_count": 384,
   "id": "a1eac5fa",
   "metadata": {
    "ExecuteTime": {
     "end_time": "2022-11-01T22:58:48.160813Z",
     "start_time": "2022-11-01T22:58:48.143219Z"
    },
    "hidden": true
   },
   "outputs": [],
   "source": [
    "# Valore nan para 'Unknonw'\n",
    "shark['Fatal (Y/N)'] = shark['Fatal (Y/N)'].fillna(\"Unknown\")"
   ]
  },
  {
   "cell_type": "code",
   "execution_count": 383,
   "id": "0e98ada1",
   "metadata": {
    "ExecuteTime": {
     "end_time": "2022-11-01T22:58:44.443602Z",
     "start_time": "2022-11-01T22:58:44.422743Z"
    },
    "hidden": true
   },
   "outputs": [],
   "source": [
    "# Removendo espaços, typo e etc\n",
    "shark['Fatal (Y/N)']=shark['Fatal (Y/N)'].str.replace('UNKNWON', 'Unknown', regex=True)\n",
    "shark['Fatal (Y/N)']=shark['Fatal (Y/N)'].str.replace('2017', 'Unknown', regex=True)\n",
    "shark['Fatal (Y/N)']=shark['Fatal (Y/N)'].str.replace('M', 'N', regex=True)\n",
    "shark['Fatal (Y/N)']=shark['Fatal (Y/N)'].str.replace('y', 'Y', regex=True)"
   ]
  },
  {
   "cell_type": "markdown",
   "id": "852dccf3",
   "metadata": {
    "ExecuteTime": {
     "end_time": "2022-10-30T20:55:55.305406Z",
     "start_time": "2022-10-30T20:55:55.283109Z"
    },
    "heading_collapsed": true
   },
   "source": [
    "# Análise dos Dados"
   ]
  },
  {
   "cell_type": "markdown",
   "id": "029875be",
   "metadata": {
    "heading_collapsed": true,
    "hidden": true
   },
   "source": [
    "## Qual o ano ocorreu mais ataques?"
   ]
  },
  {
   "cell_type": "code",
   "execution_count": 118,
   "id": "a02091b5",
   "metadata": {
    "ExecuteTime": {
     "end_time": "2022-11-01T18:57:37.350919Z",
     "start_time": "2022-11-01T18:57:37.323333Z"
    },
    "hidden": true,
    "scrolled": true
   },
   "outputs": [
    {
     "data": {
      "text/html": [
       "<div>\n",
       "<style scoped>\n",
       "    .dataframe tbody tr th:only-of-type {\n",
       "        vertical-align: middle;\n",
       "    }\n",
       "\n",
       "    .dataframe tbody tr th {\n",
       "        vertical-align: top;\n",
       "    }\n",
       "\n",
       "    .dataframe thead th {\n",
       "        text-align: right;\n",
       "    }\n",
       "</style>\n",
       "<table border=\"1\" class=\"dataframe\">\n",
       "  <thead>\n",
       "    <tr style=\"text-align: right;\">\n",
       "      <th></th>\n",
       "      <th>Year</th>\n",
       "      <th>Count</th>\n",
       "    </tr>\n",
       "  </thead>\n",
       "  <tbody>\n",
       "    <tr>\n",
       "      <th>0</th>\n",
       "      <td>2015</td>\n",
       "      <td>143</td>\n",
       "    </tr>\n",
       "    <tr>\n",
       "      <th>1</th>\n",
       "      <td>2017</td>\n",
       "      <td>136</td>\n",
       "    </tr>\n",
       "    <tr>\n",
       "      <th>2</th>\n",
       "      <td>2016</td>\n",
       "      <td>130</td>\n",
       "    </tr>\n",
       "    <tr>\n",
       "      <th>3</th>\n",
       "      <td>2011</td>\n",
       "      <td>128</td>\n",
       "    </tr>\n",
       "    <tr>\n",
       "      <th>4</th>\n",
       "      <td>2014</td>\n",
       "      <td>127</td>\n",
       "    </tr>\n",
       "  </tbody>\n",
       "</table>\n",
       "</div>"
      ],
      "text/plain": [
       "   Year  Count\n",
       "0  2015    143\n",
       "1  2017    136\n",
       "2  2016    130\n",
       "3  2011    128\n",
       "4  2014    127"
      ]
     },
     "execution_count": 118,
     "metadata": {},
     "output_type": "execute_result"
    }
   ],
   "source": [
    "shark['Year'].value_counts().reset_index().rename(columns= {'Year': 'Count', 'index':'Year'}).head(5)"
   ]
  },
  {
   "cell_type": "markdown",
   "id": "e21a5947",
   "metadata": {
    "heading_collapsed": true,
    "hidden": true
   },
   "source": [
    "## Qual país registrou mais ocorrências de ataques?"
   ]
  },
  {
   "cell_type": "code",
   "execution_count": 123,
   "id": "576f3b27",
   "metadata": {
    "ExecuteTime": {
     "end_time": "2022-11-01T19:04:46.995938Z",
     "start_time": "2022-11-01T19:04:46.975018Z"
    },
    "hidden": true
   },
   "outputs": [
    {
     "data": {
      "text/html": [
       "<div>\n",
       "<style scoped>\n",
       "    .dataframe tbody tr th:only-of-type {\n",
       "        vertical-align: middle;\n",
       "    }\n",
       "\n",
       "    .dataframe tbody tr th {\n",
       "        vertical-align: top;\n",
       "    }\n",
       "\n",
       "    .dataframe thead th {\n",
       "        text-align: right;\n",
       "    }\n",
       "</style>\n",
       "<table border=\"1\" class=\"dataframe\">\n",
       "  <thead>\n",
       "    <tr style=\"text-align: right;\">\n",
       "      <th></th>\n",
       "      <th>Country</th>\n",
       "      <th>Count</th>\n",
       "    </tr>\n",
       "  </thead>\n",
       "  <tbody>\n",
       "    <tr>\n",
       "      <th>0</th>\n",
       "      <td>USA</td>\n",
       "      <td>2212</td>\n",
       "    </tr>\n",
       "    <tr>\n",
       "      <th>1</th>\n",
       "      <td>AUSTRALIA</td>\n",
       "      <td>1320</td>\n",
       "    </tr>\n",
       "    <tr>\n",
       "      <th>2</th>\n",
       "      <td>SOUTH AFRICA</td>\n",
       "      <td>571</td>\n",
       "    </tr>\n",
       "    <tr>\n",
       "      <th>3</th>\n",
       "      <td>PAPUA NEW GUINEA</td>\n",
       "      <td>130</td>\n",
       "    </tr>\n",
       "    <tr>\n",
       "      <th>4</th>\n",
       "      <td>NEW ZEALAND</td>\n",
       "      <td>127</td>\n",
       "    </tr>\n",
       "  </tbody>\n",
       "</table>\n",
       "</div>"
      ],
      "text/plain": [
       "            Country  Count\n",
       "0               USA   2212\n",
       "1         AUSTRALIA   1320\n",
       "2      SOUTH AFRICA    571\n",
       "3  PAPUA NEW GUINEA    130\n",
       "4       NEW ZEALAND    127"
      ]
     },
     "execution_count": 123,
     "metadata": {},
     "output_type": "execute_result"
    }
   ],
   "source": [
    "#shark.groupby(by='Country')['Year'].value_counts()\n",
    "shark['Country'].value_counts().reset_index().rename(columns= {'Country': 'Count', 'index':'Country'}).head(5)"
   ]
  },
  {
   "cell_type": "markdown",
   "id": "a073c929",
   "metadata": {
    "heading_collapsed": true,
    "hidden": true
   },
   "source": [
    "## Qual gênero sofreu mais ataques?"
   ]
  },
  {
   "cell_type": "code",
   "execution_count": 122,
   "id": "62e4e329",
   "metadata": {
    "ExecuteTime": {
     "end_time": "2022-11-01T19:04:30.384138Z",
     "start_time": "2022-11-01T19:04:30.359829Z"
    },
    "hidden": true
   },
   "outputs": [
    {
     "data": {
      "text/html": [
       "<div>\n",
       "<style scoped>\n",
       "    .dataframe tbody tr th:only-of-type {\n",
       "        vertical-align: middle;\n",
       "    }\n",
       "\n",
       "    .dataframe tbody tr th {\n",
       "        vertical-align: top;\n",
       "    }\n",
       "\n",
       "    .dataframe thead th {\n",
       "        text-align: right;\n",
       "    }\n",
       "</style>\n",
       "<table border=\"1\" class=\"dataframe\">\n",
       "  <thead>\n",
       "    <tr style=\"text-align: right;\">\n",
       "      <th></th>\n",
       "      <th>Genero</th>\n",
       "      <th>Count</th>\n",
       "    </tr>\n",
       "  </thead>\n",
       "  <tbody>\n",
       "    <tr>\n",
       "      <th>0</th>\n",
       "      <td>Male</td>\n",
       "      <td>4990</td>\n",
       "    </tr>\n",
       "    <tr>\n",
       "      <th>1</th>\n",
       "      <td>Female</td>\n",
       "      <td>624</td>\n",
       "    </tr>\n",
       "    <tr>\n",
       "      <th>2</th>\n",
       "      <td>Unknown</td>\n",
       "      <td>558</td>\n",
       "    </tr>\n",
       "  </tbody>\n",
       "</table>\n",
       "</div>"
      ],
      "text/plain": [
       "    Genero  Count\n",
       "0     Male   4990\n",
       "1   Female    624\n",
       "2  Unknown    558"
      ]
     },
     "execution_count": 122,
     "metadata": {},
     "output_type": "execute_result"
    }
   ],
   "source": [
    "shark['Genero'].value_counts().reset_index().rename(columns= {'Genero': 'Count', 'index':'Genero'}).head(5)"
   ]
  },
  {
   "cell_type": "markdown",
   "id": "fa345967",
   "metadata": {
    "heading_collapsed": true,
    "hidden": true
   },
   "source": [
    "##  Visto que o ano onde teve mais ataques foi 2015:"
   ]
  },
  {
   "cell_type": "markdown",
   "id": "34f89e26",
   "metadata": {
    "heading_collapsed": true,
    "hidden": true
   },
   "source": [
    "###  Agrupando a coluna `Year` e salvando em um novo dataframe `shark_2015`"
   ]
  },
  {
   "cell_type": "code",
   "execution_count": 403,
   "id": "220c4f34",
   "metadata": {
    "ExecuteTime": {
     "end_time": "2022-11-01T23:17:56.780963Z",
     "start_time": "2022-11-01T23:17:56.767544Z"
    },
    "hidden": true
   },
   "outputs": [],
   "source": [
    "# Filtrar por país e adicionar a um novo dataframe chamado shark_2015\n",
    "shark_2015 = shark.groupby(by='Year').get_group(2015)"
   ]
  },
  {
   "cell_type": "markdown",
   "id": "42b29101",
   "metadata": {
    "ExecuteTime": {
     "end_time": "2022-10-30T21:42:15.086325Z",
     "start_time": "2022-10-30T21:42:15.042942Z"
    },
    "heading_collapsed": true,
    "hidden": true
   },
   "source": [
    "###  Qual o país teve mais ocorrências de ataques?\n"
   ]
  },
  {
   "cell_type": "code",
   "execution_count": 365,
   "id": "607ff7bd",
   "metadata": {
    "ExecuteTime": {
     "end_time": "2022-11-01T21:15:34.915061Z",
     "start_time": "2022-11-01T21:15:34.891511Z"
    },
    "hidden": true
   },
   "outputs": [
    {
     "data": {
      "text/html": [
       "<div>\n",
       "<style scoped>\n",
       "    .dataframe tbody tr th:only-of-type {\n",
       "        vertical-align: middle;\n",
       "    }\n",
       "\n",
       "    .dataframe tbody tr th {\n",
       "        vertical-align: top;\n",
       "    }\n",
       "\n",
       "    .dataframe thead th {\n",
       "        text-align: right;\n",
       "    }\n",
       "</style>\n",
       "<table border=\"1\" class=\"dataframe\">\n",
       "  <thead>\n",
       "    <tr style=\"text-align: right;\">\n",
       "      <th></th>\n",
       "      <th>Country</th>\n",
       "      <th>Count</th>\n",
       "    </tr>\n",
       "  </thead>\n",
       "  <tbody>\n",
       "    <tr>\n",
       "      <th>0</th>\n",
       "      <td>USA</td>\n",
       "      <td>73</td>\n",
       "    </tr>\n",
       "    <tr>\n",
       "      <th>1</th>\n",
       "      <td>AUSTRALIA</td>\n",
       "      <td>31</td>\n",
       "    </tr>\n",
       "    <tr>\n",
       "      <th>2</th>\n",
       "      <td>SOUTH AFRICA</td>\n",
       "      <td>10</td>\n",
       "    </tr>\n",
       "    <tr>\n",
       "      <th>3</th>\n",
       "      <td>REUNION</td>\n",
       "      <td>4</td>\n",
       "    </tr>\n",
       "    <tr>\n",
       "      <th>4</th>\n",
       "      <td>FRENCH POLYNESIA</td>\n",
       "      <td>4</td>\n",
       "    </tr>\n",
       "  </tbody>\n",
       "</table>\n",
       "</div>"
      ],
      "text/plain": [
       "            Country  Count\n",
       "0               USA     73\n",
       "1         AUSTRALIA     31\n",
       "2      SOUTH AFRICA     10\n",
       "3           REUNION      4\n",
       "4  FRENCH POLYNESIA      4"
      ]
     },
     "execution_count": 365,
     "metadata": {},
     "output_type": "execute_result"
    }
   ],
   "source": [
    "shark_2015['Country'].value_counts().reset_index().rename(columns= {'Country': 'Count', 'index':'Country'}).head(5)"
   ]
  },
  {
   "cell_type": "markdown",
   "id": "327a2331",
   "metadata": {
    "heading_collapsed": true,
    "hidden": true
   },
   "source": [
    "### Qual a espécie que mais atacou?<br>\n"
   ]
  },
  {
   "cell_type": "code",
   "execution_count": 358,
   "id": "6d5c80d4",
   "metadata": {
    "ExecuteTime": {
     "end_time": "2022-11-01T20:55:57.373811Z",
     "start_time": "2022-11-01T20:55:57.368235Z"
    },
    "code_folding": [],
    "hidden": true
   },
   "outputs": [],
   "source": [
    "# Tratamento da coluna 'Species'\n",
    "shark_2015['Species'].str.lower().str.replace('.*(unknown).*', 'Unknown', regex=True)"
   ]
  },
  {
   "cell_type": "code",
   "execution_count": 359,
   "id": "27bfdd58",
   "metadata": {
    "ExecuteTime": {
     "end_time": "2022-11-01T20:57:37.153390Z",
     "start_time": "2022-11-01T20:57:37.130030Z"
    },
    "hidden": true,
    "scrolled": true
   },
   "outputs": [
    {
     "data": {
      "text/html": [
       "<div>\n",
       "<style scoped>\n",
       "    .dataframe tbody tr th:only-of-type {\n",
       "        vertical-align: middle;\n",
       "    }\n",
       "\n",
       "    .dataframe tbody tr th {\n",
       "        vertical-align: top;\n",
       "    }\n",
       "\n",
       "    .dataframe thead th {\n",
       "        text-align: right;\n",
       "    }\n",
       "</style>\n",
       "<table border=\"1\" class=\"dataframe\">\n",
       "  <thead>\n",
       "    <tr style=\"text-align: right;\">\n",
       "      <th></th>\n",
       "      <th>Count</th>\n",
       "      <th>Species</th>\n",
       "    </tr>\n",
       "  </thead>\n",
       "  <tbody>\n",
       "    <tr>\n",
       "      <th>0</th>\n",
       "      <td>Unknown</td>\n",
       "      <td>36</td>\n",
       "    </tr>\n",
       "    <tr>\n",
       "      <th>1</th>\n",
       "      <td>white shark</td>\n",
       "      <td>26</td>\n",
       "    </tr>\n",
       "    <tr>\n",
       "      <th>2</th>\n",
       "      <td>bull shark</td>\n",
       "      <td>12</td>\n",
       "    </tr>\n",
       "    <tr>\n",
       "      <th>3</th>\n",
       "      <td>tiger shark</td>\n",
       "      <td>8</td>\n",
       "    </tr>\n",
       "    <tr>\n",
       "      <th>4</th>\n",
       "      <td>hammerhead shark</td>\n",
       "      <td>4</td>\n",
       "    </tr>\n",
       "  </tbody>\n",
       "</table>\n",
       "</div>"
      ],
      "text/plain": [
       "              Count  Species\n",
       "0           Unknown       36\n",
       "1       white shark       26\n",
       "2        bull shark       12\n",
       "3       tiger shark        8\n",
       "4  hammerhead shark        4"
      ]
     },
     "execution_count": 359,
     "metadata": {},
     "output_type": "execute_result"
    }
   ],
   "source": [
    "shark_2015['Species'].value_counts().reset_index().rename(columns= {'Genero': 'Species', 'index':'Count'}).head(5)"
   ]
  },
  {
   "cell_type": "markdown",
   "id": "6615f53f",
   "metadata": {
    "heading_collapsed": true,
    "hidden": true
   },
   "source": [
    "### Qual a porcentagem de homens e mulheres atacados?"
   ]
  },
  {
   "cell_type": "code",
   "execution_count": 394,
   "id": "ab40bd1b",
   "metadata": {
    "ExecuteTime": {
     "end_time": "2022-11-01T23:06:45.185189Z",
     "start_time": "2022-11-01T23:06:45.163625Z"
    },
    "hidden": true,
    "scrolled": true
   },
   "outputs": [
    {
     "data": {
      "text/html": [
       "<div>\n",
       "<style scoped>\n",
       "    .dataframe tbody tr th:only-of-type {\n",
       "        vertical-align: middle;\n",
       "    }\n",
       "\n",
       "    .dataframe tbody tr th {\n",
       "        vertical-align: top;\n",
       "    }\n",
       "\n",
       "    .dataframe thead th {\n",
       "        text-align: right;\n",
       "    }\n",
       "</style>\n",
       "<table border=\"1\" class=\"dataframe\">\n",
       "  <thead>\n",
       "    <tr style=\"text-align: right;\">\n",
       "      <th></th>\n",
       "      <th>Genero</th>\n",
       "      <th>%</th>\n",
       "    </tr>\n",
       "  </thead>\n",
       "  <tbody>\n",
       "    <tr>\n",
       "      <th>0</th>\n",
       "      <td>Male</td>\n",
       "      <td>79.72</td>\n",
       "    </tr>\n",
       "    <tr>\n",
       "      <th>1</th>\n",
       "      <td>Female</td>\n",
       "      <td>18.88</td>\n",
       "    </tr>\n",
       "    <tr>\n",
       "      <th>2</th>\n",
       "      <td>Unknown</td>\n",
       "      <td>1.40</td>\n",
       "    </tr>\n",
       "  </tbody>\n",
       "</table>\n",
       "</div>"
      ],
      "text/plain": [
       "    Genero      %\n",
       "0     Male  79.72\n",
       "1   Female  18.88\n",
       "2  Unknown   1.40"
      ]
     },
     "execution_count": 394,
     "metadata": {},
     "output_type": "execute_result"
    }
   ],
   "source": [
    "(shark_2015['Genero'].value_counts(normalize=True)*100).round(2).reset_index().rename(columns= {'Genero': '%', 'index':'Genero'}).head(5)"
   ]
  },
  {
   "cell_type": "markdown",
   "id": "54876a7d",
   "metadata": {
    "heading_collapsed": true,
    "hidden": true
   },
   "source": [
    "### Qual a porcentagem de fatalidade?"
   ]
  },
  {
   "cell_type": "code",
   "execution_count": 402,
   "id": "ff1865d9",
   "metadata": {
    "ExecuteTime": {
     "end_time": "2022-11-01T23:16:05.636188Z",
     "start_time": "2022-11-01T23:16:05.620404Z"
    },
    "hidden": true
   },
   "outputs": [
    {
     "data": {
      "text/html": [
       "<div>\n",
       "<style scoped>\n",
       "    .dataframe tbody tr th:only-of-type {\n",
       "        vertical-align: middle;\n",
       "    }\n",
       "\n",
       "    .dataframe tbody tr th {\n",
       "        vertical-align: top;\n",
       "    }\n",
       "\n",
       "    .dataframe thead th {\n",
       "        text-align: right;\n",
       "    }\n",
       "</style>\n",
       "<table border=\"1\" class=\"dataframe\">\n",
       "  <thead>\n",
       "    <tr style=\"text-align: right;\">\n",
       "      <th></th>\n",
       "      <th>Tipo</th>\n",
       "      <th>%</th>\n",
       "    </tr>\n",
       "  </thead>\n",
       "  <tbody>\n",
       "    <tr>\n",
       "      <th>0</th>\n",
       "      <td>N</td>\n",
       "      <td>84.62</td>\n",
       "    </tr>\n",
       "    <tr>\n",
       "      <th>1</th>\n",
       "      <td>Unknown</td>\n",
       "      <td>9.09</td>\n",
       "    </tr>\n",
       "    <tr>\n",
       "      <th>2</th>\n",
       "      <td>Y</td>\n",
       "      <td>6.29</td>\n",
       "    </tr>\n",
       "  </tbody>\n",
       "</table>\n",
       "</div>"
      ],
      "text/plain": [
       "      Tipo      %\n",
       "0        N  84.62\n",
       "1  Unknown   9.09\n",
       "2        Y   6.29"
      ]
     },
     "execution_count": 402,
     "metadata": {},
     "output_type": "execute_result"
    }
   ],
   "source": [
    "(shark_2015['Fatal (Y/N)'].value_counts(normalize=True)*100).round(2).reset_index().rename(columns= {'Fatal (Y/N)': '%', 'index':'Tipo'}).head(5)"
   ]
  },
  {
   "cell_type": "code",
   "execution_count": null,
   "id": "cdf7c7cd",
   "metadata": {
    "hidden": true
   },
   "outputs": [],
   "source": []
  }
 ],
 "metadata": {
  "kernelspec": {
   "display_name": "Python 3 (ipykernel)",
   "language": "python",
   "name": "python3"
  },
  "language_info": {
   "codemirror_mode": {
    "name": "ipython",
    "version": 3
   },
   "file_extension": ".py",
   "mimetype": "text/x-python",
   "name": "python",
   "nbconvert_exporter": "python",
   "pygments_lexer": "ipython3",
   "version": "3.9.12"
  },
  "toc": {
   "base_numbering": 1,
   "nav_menu": {},
   "number_sections": true,
   "sideBar": true,
   "skip_h1_title": false,
   "title_cell": "Table of Contents",
   "title_sidebar": "Contents",
   "toc_cell": false,
   "toc_position": {},
   "toc_section_display": true,
   "toc_window_display": false
  },
  "varInspector": {
   "cols": {
    "lenName": 16,
    "lenType": 16,
    "lenVar": 40
   },
   "kernels_config": {
    "python": {
     "delete_cmd_postfix": "",
     "delete_cmd_prefix": "del ",
     "library": "var_list.py",
     "varRefreshCmd": "print(var_dic_list())"
    },
    "r": {
     "delete_cmd_postfix": ") ",
     "delete_cmd_prefix": "rm(",
     "library": "var_list.r",
     "varRefreshCmd": "cat(var_dic_list()) "
    }
   },
   "types_to_exclude": [
    "module",
    "function",
    "builtin_function_or_method",
    "instance",
    "_Feature"
   ],
   "window_display": false
  }
 },
 "nbformat": 4,
 "nbformat_minor": 5
}
