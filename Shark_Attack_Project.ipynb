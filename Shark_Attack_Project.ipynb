{
 "cells": [
  {
   "cell_type": "markdown",
   "id": "43de3fce",
   "metadata": {},
   "source": [
    " <center>IRONHACK - TURMA 90</center>"
   ]
  },
  {
   "cell_type": "markdown",
   "id": "f49bdbf7",
   "metadata": {},
   "source": [
    " <center>Projeto obrigatório : Shark Attack </center> "
   ]
  },
  {
   "cell_type": "markdown",
   "id": "bb8172f8",
   "metadata": {
    "heading_collapsed": true
   },
   "source": [
    "# Visualização dos Dados"
   ]
  },
  {
   "cell_type": "code",
   "execution_count": 459,
   "id": "72bf24fe",
   "metadata": {
    "ExecuteTime": {
     "end_time": "2022-11-02T12:05:36.331937Z",
     "start_time": "2022-11-02T12:05:36.314537Z"
    },
    "hidden": true
   },
   "outputs": [],
   "source": [
    "import pandas as pd\n",
    "import numpy as np\n",
    "import re\n",
    "import os"
   ]
  },
  {
   "cell_type": "code",
   "execution_count": 460,
   "id": "4394e1b9",
   "metadata": {
    "ExecuteTime": {
     "end_time": "2022-11-02T12:05:36.471067Z",
     "start_time": "2022-11-02T12:05:36.334241Z"
    },
    "hidden": true
   },
   "outputs": [],
   "source": [
    "# Importar dataset\n",
    "shark = pd.read_csv(r'C:\\Users\\fezin\\Desktop\\IRONHACK\\Projetos\\Projeto_Shark_Attack\\attacks.csv', encoding = 'latin-1')"
   ]
  },
  {
   "cell_type": "code",
   "execution_count": 461,
   "id": "ec6ec3b6",
   "metadata": {
    "ExecuteTime": {
     "end_time": "2022-11-02T12:05:36.502055Z",
     "start_time": "2022-11-02T12:05:36.472279Z"
    },
    "hidden": true
   },
   "outputs": [
    {
     "data": {
      "text/html": [
       "<div>\n",
       "<style scoped>\n",
       "    .dataframe tbody tr th:only-of-type {\n",
       "        vertical-align: middle;\n",
       "    }\n",
       "\n",
       "    .dataframe tbody tr th {\n",
       "        vertical-align: top;\n",
       "    }\n",
       "\n",
       "    .dataframe thead th {\n",
       "        text-align: right;\n",
       "    }\n",
       "</style>\n",
       "<table border=\"1\" class=\"dataframe\">\n",
       "  <thead>\n",
       "    <tr style=\"text-align: right;\">\n",
       "      <th></th>\n",
       "      <th>Case Number</th>\n",
       "      <th>Date</th>\n",
       "      <th>Year</th>\n",
       "      <th>Type</th>\n",
       "      <th>Country</th>\n",
       "      <th>Area</th>\n",
       "      <th>Location</th>\n",
       "      <th>Activity</th>\n",
       "      <th>Name</th>\n",
       "      <th>Sex</th>\n",
       "      <th>Age</th>\n",
       "      <th>Injury</th>\n",
       "      <th>Fatal (Y/N)</th>\n",
       "      <th>Time</th>\n",
       "      <th>Species</th>\n",
       "      <th>Investigator or Source</th>\n",
       "      <th>pdf</th>\n",
       "      <th>href formula</th>\n",
       "      <th>href</th>\n",
       "      <th>Case Number.1</th>\n",
       "      <th>Case Number.2</th>\n",
       "      <th>original order</th>\n",
       "      <th>Unnamed: 22</th>\n",
       "      <th>Unnamed: 23</th>\n",
       "    </tr>\n",
       "  </thead>\n",
       "  <tbody>\n",
       "    <tr>\n",
       "      <th>0</th>\n",
       "      <td>2018.06.25</td>\n",
       "      <td>25-Jun-2018</td>\n",
       "      <td>2018.0</td>\n",
       "      <td>Boating</td>\n",
       "      <td>USA</td>\n",
       "      <td>California</td>\n",
       "      <td>Oceanside, San Diego County</td>\n",
       "      <td>Paddling</td>\n",
       "      <td>Julie Wolfe</td>\n",
       "      <td>F</td>\n",
       "      <td>57</td>\n",
       "      <td>No injury to occupant, outrigger canoe and pad...</td>\n",
       "      <td>N</td>\n",
       "      <td>18h00</td>\n",
       "      <td>White shark</td>\n",
       "      <td>R. Collier, GSAF</td>\n",
       "      <td>2018.06.25-Wolfe.pdf</td>\n",
       "      <td>http://sharkattackfile.net/spreadsheets/pdf_di...</td>\n",
       "      <td>http://sharkattackfile.net/spreadsheets/pdf_di...</td>\n",
       "      <td>2018.06.25</td>\n",
       "      <td>2018.06.25</td>\n",
       "      <td>6303.0</td>\n",
       "      <td>NaN</td>\n",
       "      <td>NaN</td>\n",
       "    </tr>\n",
       "  </tbody>\n",
       "</table>\n",
       "</div>"
      ],
      "text/plain": [
       "  Case Number         Date    Year     Type Country        Area  \\\n",
       "0  2018.06.25  25-Jun-2018  2018.0  Boating     USA  California   \n",
       "\n",
       "                      Location  Activity         Name Sex  Age  \\\n",
       "0  Oceanside, San Diego County  Paddling  Julie Wolfe    F  57   \n",
       "\n",
       "                                              Injury Fatal (Y/N)   Time  \\\n",
       "0  No injury to occupant, outrigger canoe and pad...           N  18h00   \n",
       "\n",
       "      Species  Investigator or Source                   pdf  \\\n",
       "0  White shark       R. Collier, GSAF  2018.06.25-Wolfe.pdf   \n",
       "\n",
       "                                        href formula  \\\n",
       "0  http://sharkattackfile.net/spreadsheets/pdf_di...   \n",
       "\n",
       "                                                href Case Number.1  \\\n",
       "0  http://sharkattackfile.net/spreadsheets/pdf_di...    2018.06.25   \n",
       "\n",
       "  Case Number.2  original order Unnamed: 22 Unnamed: 23  \n",
       "0    2018.06.25          6303.0         NaN         NaN  "
      ]
     },
     "execution_count": 461,
     "metadata": {},
     "output_type": "execute_result"
    }
   ],
   "source": [
    "# Visualização do dataset\n",
    "shark.head(1)"
   ]
  },
  {
   "cell_type": "code",
   "execution_count": 462,
   "id": "a48ce8af",
   "metadata": {
    "ExecuteTime": {
     "end_time": "2022-11-02T12:05:36.533827Z",
     "start_time": "2022-11-02T12:05:36.504315Z"
    },
    "hidden": true
   },
   "outputs": [
    {
     "data": {
      "text/html": [
       "<div>\n",
       "<style scoped>\n",
       "    .dataframe tbody tr th:only-of-type {\n",
       "        vertical-align: middle;\n",
       "    }\n",
       "\n",
       "    .dataframe tbody tr th {\n",
       "        vertical-align: top;\n",
       "    }\n",
       "\n",
       "    .dataframe thead th {\n",
       "        text-align: right;\n",
       "    }\n",
       "</style>\n",
       "<table border=\"1\" class=\"dataframe\">\n",
       "  <thead>\n",
       "    <tr style=\"text-align: right;\">\n",
       "      <th></th>\n",
       "      <th>Case Number</th>\n",
       "      <th>Date</th>\n",
       "      <th>Year</th>\n",
       "      <th>Type</th>\n",
       "      <th>Country</th>\n",
       "      <th>Area</th>\n",
       "      <th>Location</th>\n",
       "      <th>Activity</th>\n",
       "      <th>Name</th>\n",
       "      <th>Sex</th>\n",
       "      <th>Age</th>\n",
       "      <th>Injury</th>\n",
       "      <th>Fatal (Y/N)</th>\n",
       "      <th>Time</th>\n",
       "      <th>Species</th>\n",
       "      <th>Investigator or Source</th>\n",
       "      <th>pdf</th>\n",
       "      <th>href formula</th>\n",
       "      <th>href</th>\n",
       "      <th>Case Number.1</th>\n",
       "      <th>Case Number.2</th>\n",
       "      <th>original order</th>\n",
       "      <th>Unnamed: 22</th>\n",
       "      <th>Unnamed: 23</th>\n",
       "    </tr>\n",
       "  </thead>\n",
       "  <tbody>\n",
       "    <tr>\n",
       "      <th>0</th>\n",
       "      <td>2018.06.25</td>\n",
       "      <td>25-Jun-2018</td>\n",
       "      <td>2018.0</td>\n",
       "      <td>Boating</td>\n",
       "      <td>USA</td>\n",
       "      <td>California</td>\n",
       "      <td>Oceanside, San Diego County</td>\n",
       "      <td>Paddling</td>\n",
       "      <td>Julie Wolfe</td>\n",
       "      <td>F</td>\n",
       "      <td>57</td>\n",
       "      <td>No injury to occupant, outrigger canoe and pad...</td>\n",
       "      <td>N</td>\n",
       "      <td>18h00</td>\n",
       "      <td>White shark</td>\n",
       "      <td>R. Collier, GSAF</td>\n",
       "      <td>2018.06.25-Wolfe.pdf</td>\n",
       "      <td>http://sharkattackfile.net/spreadsheets/pdf_di...</td>\n",
       "      <td>http://sharkattackfile.net/spreadsheets/pdf_di...</td>\n",
       "      <td>2018.06.25</td>\n",
       "      <td>2018.06.25</td>\n",
       "      <td>6303.0</td>\n",
       "      <td>NaN</td>\n",
       "      <td>NaN</td>\n",
       "    </tr>\n",
       "    <tr>\n",
       "      <th>1</th>\n",
       "      <td>2018.06.18</td>\n",
       "      <td>18-Jun-2018</td>\n",
       "      <td>2018.0</td>\n",
       "      <td>Unprovoked</td>\n",
       "      <td>USA</td>\n",
       "      <td>Georgia</td>\n",
       "      <td>St. Simon Island, Glynn County</td>\n",
       "      <td>Standing</td>\n",
       "      <td>Adyson McNeely</td>\n",
       "      <td>F</td>\n",
       "      <td>11</td>\n",
       "      <td>Minor injury to left thigh</td>\n",
       "      <td>N</td>\n",
       "      <td>14h00  -15h00</td>\n",
       "      <td>NaN</td>\n",
       "      <td>K.McMurray, TrackingSharks.com</td>\n",
       "      <td>2018.06.18-McNeely.pdf</td>\n",
       "      <td>http://sharkattackfile.net/spreadsheets/pdf_di...</td>\n",
       "      <td>http://sharkattackfile.net/spreadsheets/pdf_di...</td>\n",
       "      <td>2018.06.18</td>\n",
       "      <td>2018.06.18</td>\n",
       "      <td>6302.0</td>\n",
       "      <td>NaN</td>\n",
       "      <td>NaN</td>\n",
       "    </tr>\n",
       "  </tbody>\n",
       "</table>\n",
       "</div>"
      ],
      "text/plain": [
       "  Case Number         Date    Year        Type Country        Area  \\\n",
       "0  2018.06.25  25-Jun-2018  2018.0     Boating     USA  California   \n",
       "1  2018.06.18  18-Jun-2018  2018.0  Unprovoked     USA     Georgia   \n",
       "\n",
       "                         Location  Activity             Name Sex  Age  \\\n",
       "0     Oceanside, San Diego County  Paddling      Julie Wolfe    F  57   \n",
       "1  St. Simon Island, Glynn County  Standing  Adyson McNeely     F  11   \n",
       "\n",
       "                                              Injury Fatal (Y/N)  \\\n",
       "0  No injury to occupant, outrigger canoe and pad...           N   \n",
       "1                         Minor injury to left thigh           N   \n",
       "\n",
       "            Time     Species           Investigator or Source  \\\n",
       "0          18h00  White shark                R. Collier, GSAF   \n",
       "1  14h00  -15h00          NaN  K.McMurray, TrackingSharks.com   \n",
       "\n",
       "                      pdf                                       href formula  \\\n",
       "0    2018.06.25-Wolfe.pdf  http://sharkattackfile.net/spreadsheets/pdf_di...   \n",
       "1  2018.06.18-McNeely.pdf  http://sharkattackfile.net/spreadsheets/pdf_di...   \n",
       "\n",
       "                                                href Case Number.1  \\\n",
       "0  http://sharkattackfile.net/spreadsheets/pdf_di...    2018.06.25   \n",
       "1  http://sharkattackfile.net/spreadsheets/pdf_di...    2018.06.18   \n",
       "\n",
       "  Case Number.2  original order Unnamed: 22 Unnamed: 23  \n",
       "0    2018.06.25          6303.0         NaN         NaN  \n",
       "1    2018.06.18          6302.0         NaN         NaN  "
      ]
     },
     "execution_count": 462,
     "metadata": {},
     "output_type": "execute_result"
    }
   ],
   "source": [
    "#Tratamento para ver todas as colunas\n",
    "pd.set_option('display.max_columns', None)\n",
    "shark.head(2)"
   ]
  },
  {
   "cell_type": "code",
   "execution_count": 463,
   "id": "c14bb425",
   "metadata": {
    "ExecuteTime": {
     "end_time": "2022-11-02T12:05:36.564400Z",
     "start_time": "2022-11-02T12:05:36.545211Z"
    },
    "hidden": true,
    "scrolled": true
   },
   "outputs": [
    {
     "data": {
      "text/plain": [
       "Case Number                object\n",
       "Date                       object\n",
       "Year                      float64\n",
       "Type                       object\n",
       "Country                    object\n",
       "Area                       object\n",
       "Location                   object\n",
       "Activity                   object\n",
       "Name                       object\n",
       "Sex                        object\n",
       "Age                        object\n",
       "Injury                     object\n",
       "Fatal (Y/N)                object\n",
       "Time                       object\n",
       "Species                    object\n",
       "Investigator or Source     object\n",
       "pdf                        object\n",
       "href formula               object\n",
       "href                       object\n",
       "Case Number.1              object\n",
       "Case Number.2              object\n",
       "original order            float64\n",
       "Unnamed: 22                object\n",
       "Unnamed: 23                object\n",
       "dtype: object"
      ]
     },
     "execution_count": 463,
     "metadata": {},
     "output_type": "execute_result"
    }
   ],
   "source": [
    "# Visualizando os tipos\n",
    "shark.dtypes"
   ]
  },
  {
   "cell_type": "markdown",
   "id": "63dac158",
   "metadata": {},
   "source": [
    "# Limpeza dos Dados"
   ]
  },
  {
   "cell_type": "markdown",
   "id": "f6949020",
   "metadata": {
    "ExecuteTime": {
     "end_time": "2022-10-29T14:11:46.611951Z",
     "start_time": "2022-10-29T14:11:46.598993Z"
    },
    "heading_collapsed": true
   },
   "source": [
    "## Verificação de dados ausentes/nulos"
   ]
  },
  {
   "cell_type": "markdown",
   "id": "3dfe9871",
   "metadata": {
    "hidden": true
   },
   "source": [
    "**1) Shape**: informar a quantidade de linhas e colunas; <br>\n",
    "**2) Soma** to total de células sem dados ou nulos;<br>\n",
    "**3) Lista** de colunas com valores ausentes; e <br>\n",
    "**4) Porcentagem** dos valores que estão faltando por colunas."
   ]
  },
  {
   "cell_type": "code",
   "execution_count": 464,
   "id": "aafec32c",
   "metadata": {
    "ExecuteTime": {
     "end_time": "2022-11-02T12:05:36.580843Z",
     "start_time": "2022-11-02T12:05:36.566394Z"
    },
    "cell_style": "split",
    "hidden": true
   },
   "outputs": [
    {
     "data": {
      "text/plain": [
       "(25723, 24)"
      ]
     },
     "execution_count": 464,
     "metadata": {},
     "output_type": "execute_result"
    }
   ],
   "source": [
    "# 1) Total de linhas e colunas do dataset\n",
    "shark.shape"
   ]
  },
  {
   "cell_type": "code",
   "execution_count": 465,
   "id": "bc06d3b2",
   "metadata": {
    "ExecuteTime": {
     "end_time": "2022-11-02T12:05:36.658463Z",
     "start_time": "2022-11-02T12:05:36.584768Z"
    },
    "cell_style": "split",
    "hidden": true
   },
   "outputs": [
    {
     "data": {
      "text/plain": [
       "488276"
      ]
     },
     "execution_count": 465,
     "metadata": {},
     "output_type": "execute_result"
    }
   ],
   "source": [
    "# 2) Total de valores ausentes (488.276)\n",
    "shark.isnull().sum().sum()"
   ]
  },
  {
   "cell_type": "code",
   "execution_count": 466,
   "id": "760d30e9",
   "metadata": {
    "ExecuteTime": {
     "end_time": "2022-11-02T12:05:36.735201Z",
     "start_time": "2022-11-02T12:05:36.660856Z"
    },
    "cell_style": "split",
    "hidden": true
   },
   "outputs": [
    {
     "data": {
      "text/plain": [
       "Case Number               17021\n",
       "Date                      19421\n",
       "Year                      19423\n",
       "Type                      19425\n",
       "Country                   19471\n",
       "Area                      19876\n",
       "Location                  19961\n",
       "Activity                  19965\n",
       "Name                      19631\n",
       "Sex                       19986\n",
       "Age                       22252\n",
       "Injury                    19449\n",
       "Fatal (Y/N)               19960\n",
       "Time                      22775\n",
       "Species                   22259\n",
       "Investigator or Source    19438\n",
       "pdf                       19421\n",
       "href formula              19422\n",
       "href                      19421\n",
       "Case Number.1             19421\n",
       "Case Number.2             19421\n",
       "original order            19414\n",
       "Unnamed: 22               25722\n",
       "Unnamed: 23               25721\n",
       "dtype: int64"
      ]
     },
     "execution_count": 466,
     "metadata": {},
     "output_type": "execute_result"
    }
   ],
   "source": [
    "# 3) Lista das colunas com valores ausentes\n",
    "shark.isnull().sum()"
   ]
  },
  {
   "cell_type": "code",
   "execution_count": 467,
   "id": "5e8f0ed8",
   "metadata": {
    "ExecuteTime": {
     "end_time": "2022-11-02T12:05:36.827628Z",
     "start_time": "2022-11-02T12:05:36.737290Z"
    },
    "cell_style": "split",
    "hidden": true
   },
   "outputs": [
    {
     "data": {
      "text/plain": [
       "Case Number               0.661704\n",
       "Date                      0.755005\n",
       "Year                      0.755083\n",
       "Type                      0.755161\n",
       "Country                   0.756949\n",
       "Area                      0.772694\n",
       "Location                  0.775998\n",
       "Activity                  0.776154\n",
       "Name                      0.763169\n",
       "Sex                       0.776970\n",
       "Age                       0.865062\n",
       "Injury                    0.756094\n",
       "Fatal (Y/N)               0.775959\n",
       "Time                      0.885394\n",
       "Species                   0.865335\n",
       "Investigator or Source    0.755666\n",
       "pdf                       0.755005\n",
       "href formula              0.755044\n",
       "href                      0.755005\n",
       "Case Number.1             0.755005\n",
       "Case Number.2             0.755005\n",
       "original order            0.754733\n",
       "Unnamed: 22               0.999961\n",
       "Unnamed: 23               0.999922\n",
       "dtype: float64"
      ]
     },
     "execution_count": 467,
     "metadata": {},
     "output_type": "execute_result"
    }
   ],
   "source": [
    "# 4) Porcentagem de valores que estão faltando\n",
    "shark.isna().mean()"
   ]
  },
  {
   "cell_type": "markdown",
   "id": "2fae8f88",
   "metadata": {
    "hidden": true
   },
   "source": [
    "Pela análise acima, é possível identificar que as colunas `Unnamed: 22`, `Unnamed: 22`, `original order`, `Case Number.1` e `Case Number.2` estão praticamente vazias. <br>\n",
    "<br>\n",
    "Como não serão colunas importantes para responder perguntas que este trabalho se propõe, o código seguinte resolve:\n",
    "<br>"
   ]
  },
  {
   "cell_type": "code",
   "execution_count": 468,
   "id": "6c15f1b5",
   "metadata": {
    "ExecuteTime": {
     "end_time": "2022-11-02T12:05:36.889230Z",
     "start_time": "2022-11-02T12:05:36.839754Z"
    },
    "hidden": true
   },
   "outputs": [
    {
     "data": {
      "text/html": [
       "<div>\n",
       "<style scoped>\n",
       "    .dataframe tbody tr th:only-of-type {\n",
       "        vertical-align: middle;\n",
       "    }\n",
       "\n",
       "    .dataframe tbody tr th {\n",
       "        vertical-align: top;\n",
       "    }\n",
       "\n",
       "    .dataframe thead th {\n",
       "        text-align: right;\n",
       "    }\n",
       "</style>\n",
       "<table border=\"1\" class=\"dataframe\">\n",
       "  <thead>\n",
       "    <tr style=\"text-align: right;\">\n",
       "      <th></th>\n",
       "      <th>Case Number</th>\n",
       "      <th>Date</th>\n",
       "      <th>Year</th>\n",
       "      <th>Type</th>\n",
       "      <th>Country</th>\n",
       "      <th>Area</th>\n",
       "      <th>Location</th>\n",
       "      <th>Activity</th>\n",
       "      <th>Name</th>\n",
       "      <th>Sex</th>\n",
       "      <th>Age</th>\n",
       "      <th>Injury</th>\n",
       "      <th>Fatal (Y/N)</th>\n",
       "      <th>Time</th>\n",
       "      <th>Species</th>\n",
       "    </tr>\n",
       "  </thead>\n",
       "  <tbody>\n",
       "    <tr>\n",
       "      <th>0</th>\n",
       "      <td>2018.06.25</td>\n",
       "      <td>25-Jun-2018</td>\n",
       "      <td>2018.0</td>\n",
       "      <td>Boating</td>\n",
       "      <td>USA</td>\n",
       "      <td>California</td>\n",
       "      <td>Oceanside, San Diego County</td>\n",
       "      <td>Paddling</td>\n",
       "      <td>Julie Wolfe</td>\n",
       "      <td>F</td>\n",
       "      <td>57</td>\n",
       "      <td>No injury to occupant, outrigger canoe and pad...</td>\n",
       "      <td>N</td>\n",
       "      <td>18h00</td>\n",
       "      <td>White shark</td>\n",
       "    </tr>\n",
       "    <tr>\n",
       "      <th>1</th>\n",
       "      <td>2018.06.18</td>\n",
       "      <td>18-Jun-2018</td>\n",
       "      <td>2018.0</td>\n",
       "      <td>Unprovoked</td>\n",
       "      <td>USA</td>\n",
       "      <td>Georgia</td>\n",
       "      <td>St. Simon Island, Glynn County</td>\n",
       "      <td>Standing</td>\n",
       "      <td>Adyson McNeely</td>\n",
       "      <td>F</td>\n",
       "      <td>11</td>\n",
       "      <td>Minor injury to left thigh</td>\n",
       "      <td>N</td>\n",
       "      <td>14h00  -15h00</td>\n",
       "      <td>NaN</td>\n",
       "    </tr>\n",
       "    <tr>\n",
       "      <th>2</th>\n",
       "      <td>2018.06.09</td>\n",
       "      <td>09-Jun-2018</td>\n",
       "      <td>2018.0</td>\n",
       "      <td>Invalid</td>\n",
       "      <td>USA</td>\n",
       "      <td>Hawaii</td>\n",
       "      <td>Habush, Oahu</td>\n",
       "      <td>Surfing</td>\n",
       "      <td>John Denges</td>\n",
       "      <td>M</td>\n",
       "      <td>48</td>\n",
       "      <td>Injury to left lower leg from surfboard skeg</td>\n",
       "      <td>N</td>\n",
       "      <td>07h45</td>\n",
       "      <td>NaN</td>\n",
       "    </tr>\n",
       "  </tbody>\n",
       "</table>\n",
       "</div>"
      ],
      "text/plain": [
       "  Case Number         Date    Year        Type Country        Area  \\\n",
       "0  2018.06.25  25-Jun-2018  2018.0     Boating     USA  California   \n",
       "1  2018.06.18  18-Jun-2018  2018.0  Unprovoked     USA     Georgia   \n",
       "2  2018.06.09  09-Jun-2018  2018.0     Invalid     USA      Hawaii   \n",
       "\n",
       "                         Location  Activity             Name Sex  Age  \\\n",
       "0     Oceanside, San Diego County  Paddling      Julie Wolfe    F  57   \n",
       "1  St. Simon Island, Glynn County  Standing  Adyson McNeely     F  11   \n",
       "2                    Habush, Oahu   Surfing      John Denges    M  48   \n",
       "\n",
       "                                              Injury Fatal (Y/N)  \\\n",
       "0  No injury to occupant, outrigger canoe and pad...           N   \n",
       "1                         Minor injury to left thigh           N   \n",
       "2       Injury to left lower leg from surfboard skeg           N   \n",
       "\n",
       "            Time     Species   \n",
       "0          18h00  White shark  \n",
       "1  14h00  -15h00          NaN  \n",
       "2          07h45          NaN  "
      ]
     },
     "execution_count": 468,
     "metadata": {},
     "output_type": "execute_result"
    }
   ],
   "source": [
    "# Para essa análise, vai ser usado somente as colunas de Date até Species \n",
    "shark = shark.loc[:,\"Case Number\":\"Species \"]\n",
    "shark.head(3)"
   ]
  },
  {
   "cell_type": "markdown",
   "id": "f6cfc90b",
   "metadata": {
    "heading_collapsed": true
   },
   "source": [
    "## Necessário também remover linhas vazias"
   ]
  },
  {
   "cell_type": "code",
   "execution_count": 469,
   "id": "4606636c",
   "metadata": {
    "ExecuteTime": {
     "end_time": "2022-11-02T12:05:36.950227Z",
     "start_time": "2022-11-02T12:05:36.893917Z"
    },
    "hidden": true
   },
   "outputs": [],
   "source": [
    "# Agora o restante dos valores nulos podem ser removidos\n",
    "remov_rows = shark.dropna(how='all', inplace=True)"
   ]
  },
  {
   "cell_type": "code",
   "execution_count": 470,
   "id": "938ac0fb",
   "metadata": {
    "ExecuteTime": {
     "end_time": "2022-11-02T12:05:36.966353Z",
     "start_time": "2022-11-02T12:05:36.957062Z"
    },
    "hidden": true,
    "scrolled": true
   },
   "outputs": [
    {
     "data": {
      "text/plain": [
       "(8703, 15)"
      ]
     },
     "execution_count": 470,
     "metadata": {},
     "output_type": "execute_result"
    }
   ],
   "source": [
    "shark.shape"
   ]
  },
  {
   "cell_type": "markdown",
   "id": "f50e98cc",
   "metadata": {
    "heading_collapsed": true
   },
   "source": [
    "## Limpeza a coluna `Year`"
   ]
  },
  {
   "cell_type": "code",
   "execution_count": 471,
   "id": "87eb2d29",
   "metadata": {
    "ExecuteTime": {
     "end_time": "2022-11-02T12:05:36.982310Z",
     "start_time": "2022-11-02T12:05:36.971919Z"
    },
    "cell_style": "split",
    "hidden": true
   },
   "outputs": [
    {
     "data": {
      "text/plain": [
       "6288"
      ]
     },
     "execution_count": 471,
     "metadata": {},
     "output_type": "execute_result"
    }
   ],
   "source": [
    "# Quantos valores estão na coluna 'Case Number'\n",
    "len(set(shark['Case Number']))"
   ]
  },
  {
   "cell_type": "code",
   "execution_count": 472,
   "id": "687ab973",
   "metadata": {
    "ExecuteTime": {
     "end_time": "2022-11-02T12:05:37.029247Z",
     "start_time": "2022-11-02T12:05:36.985063Z"
    },
    "cell_style": "split",
    "hidden": true
   },
   "outputs": [
    {
     "data": {
      "text/plain": [
       "2652"
      ]
     },
     "execution_count": 472,
     "metadata": {},
     "output_type": "execute_result"
    }
   ],
   "source": [
    "# Quantos valores estão na coluna 'Year'\n",
    "len(set(shark['Year']))"
   ]
  },
  {
   "cell_type": "markdown",
   "id": "a5e94f56",
   "metadata": {
    "ExecuteTime": {
     "end_time": "2022-10-30T18:39:11.194285Z",
     "start_time": "2022-10-30T18:39:11.187064Z"
    },
    "hidden": true
   },
   "source": [
    "Como a coluna **'Year'** é uma coluna fundamental para esta análise, será necessário inspecioná-la"
   ]
  },
  {
   "cell_type": "code",
   "execution_count": 473,
   "id": "069cb48e",
   "metadata": {
    "ExecuteTime": {
     "end_time": "2022-11-02T12:05:37.059708Z",
     "start_time": "2022-11-02T12:05:37.032324Z"
    },
    "hidden": true,
    "scrolled": false
   },
   "outputs": [
    {
     "data": {
      "text/plain": [
       "array([2018., 2017.,   nan, 2016., 2015., 2014., 2013., 2012., 2011.,\n",
       "       2010., 2009., 2008., 2007., 2006., 2005., 2004., 2003., 2002.,\n",
       "       2001., 2000., 1999., 1998., 1997., 1996., 1995., 1984., 1994.,\n",
       "       1993., 1992., 1991., 1990., 1989., 1969., 1988., 1987., 1986.,\n",
       "       1985., 1983., 1982., 1981., 1980., 1979., 1978., 1977., 1976.,\n",
       "       1975., 1974., 1973., 1972., 1971., 1970., 1968., 1967., 1966.,\n",
       "       1965., 1964., 1963., 1962., 1961., 1960., 1959., 1958., 1957.,\n",
       "       1956., 1955., 1954., 1953., 1952., 1951., 1950., 1949., 1948.,\n",
       "       1848., 1947., 1946., 1945., 1944., 1943., 1942., 1941., 1940.,\n",
       "       1939., 1938., 1937., 1936., 1935., 1934., 1933., 1932., 1931.,\n",
       "       1930., 1929., 1928., 1927., 1926., 1925., 1924., 1923., 1922.,\n",
       "       1921., 1920., 1919., 1918., 1917., 1916., 1915., 1914., 1913.,\n",
       "       1912., 1911., 1910., 1909., 1908., 1907., 1906., 1905., 1904.,\n",
       "       1903., 1902., 1901., 1900., 1899., 1898., 1897., 1896., 1895.,\n",
       "       1894., 1893., 1892., 1891., 1890., 1889., 1888., 1887., 1886.,\n",
       "       1885., 1884., 1883., 1882., 1881., 1880., 1879., 1878., 1877.,\n",
       "       1876., 1875., 1874., 1873., 1872., 1871., 1870., 1869., 1868.,\n",
       "       1867., 1866., 1865., 1864., 1863., 1862., 1861., 1860., 1859.,\n",
       "       1858., 1857., 1856., 1855., 1853., 1852., 1851., 1850., 1849.,\n",
       "       1847., 1846., 1845., 1844., 1842., 1841., 1840., 1839., 1837.,\n",
       "       1836., 1835., 1834., 1832., 1831., 1830., 1829., 1828., 1827.,\n",
       "       1826., 1825., 1823., 1822., 1819., 1818., 1817., 1816., 1815.,\n",
       "       1812., 1811., 1810., 1808., 1807., 1805., 1804., 1803., 1802.,\n",
       "       1801., 1800., 1797., 1792., 1791., 1788., 1787., 1786., 1785.,\n",
       "       1784., 1783., 1780., 1779., 1776., 1771., 1767., 1764., 1758.,\n",
       "       1753., 1751., 1749., 1755., 1748., 1742., 1738., 1733., 1723.,\n",
       "       1721., 1703., 1700., 1642., 1638., 1637., 1617., 1595., 1580.,\n",
       "       1555., 1554., 1543.,  500.,   77.,    5.,    0.])"
      ]
     },
     "execution_count": 473,
     "metadata": {},
     "output_type": "execute_result"
    }
   ],
   "source": [
    "# Verificando valores unicos\n",
    "shark['Year'].unique()"
   ]
  },
  {
   "cell_type": "markdown",
   "id": "343df5f8",
   "metadata": {
    "hidden": true
   },
   "source": [
    "Será necessário transformá-la em int64 e verificar os valores:"
   ]
  },
  {
   "cell_type": "code",
   "execution_count": 474,
   "id": "24b71d40",
   "metadata": {
    "ExecuteTime": {
     "end_time": "2022-11-02T12:05:37.090701Z",
     "start_time": "2022-11-02T12:05:37.063692Z"
    },
    "hidden": true
   },
   "outputs": [],
   "source": [
    "# Transformando a coluna 'Year' de float64 para int64 com o método 'astype'\n",
    "shark = shark.fillna(0)\n",
    "shark.Year.astype(int)\n",
    "shark['Year'] = shark['Year'].astype('int64')"
   ]
  },
  {
   "cell_type": "code",
   "execution_count": 475,
   "id": "8426d8cd",
   "metadata": {
    "ExecuteTime": {
     "end_time": "2022-11-02T12:05:37.106181Z",
     "start_time": "2022-11-02T12:05:37.093226Z"
    },
    "hidden": true
   },
   "outputs": [
    {
     "data": {
      "text/plain": [
       "(8703, 15)"
      ]
     },
     "execution_count": 475,
     "metadata": {},
     "output_type": "execute_result"
    }
   ],
   "source": [
    "shark.shape"
   ]
  },
  {
   "cell_type": "code",
   "execution_count": 476,
   "id": "130ac80f",
   "metadata": {
    "ExecuteTime": {
     "end_time": "2022-11-02T12:05:37.121948Z",
     "start_time": "2022-11-02T12:05:37.108895Z"
    },
    "hidden": true
   },
   "outputs": [
    {
     "data": {
      "text/plain": [
       "dtype('int64')"
      ]
     },
     "execution_count": 476,
     "metadata": {},
     "output_type": "execute_result"
    }
   ],
   "source": [
    "# Verificando o tipo\n",
    "shark['Year'].dtypes"
   ]
  },
  {
   "cell_type": "code",
   "execution_count": 477,
   "id": "93a3febf",
   "metadata": {
    "ExecuteTime": {
     "end_time": "2022-11-02T12:05:37.137360Z",
     "start_time": "2022-11-02T12:05:37.124096Z"
    },
    "hidden": true
   },
   "outputs": [
    {
     "data": {
      "text/plain": [
       "array([2018, 2017,    0, 2016, 2015, 2014, 2013, 2012, 2011, 2010, 2009,\n",
       "       2008, 2007, 2006, 2005, 2004, 2003, 2002, 2001, 2000, 1999, 1998,\n",
       "       1997, 1996, 1995, 1984, 1994, 1993, 1992, 1991, 1990, 1989, 1969,\n",
       "       1988, 1987, 1986, 1985, 1983, 1982, 1981, 1980, 1979, 1978, 1977,\n",
       "       1976, 1975, 1974, 1973, 1972, 1971, 1970, 1968, 1967, 1966, 1965,\n",
       "       1964, 1963, 1962, 1961, 1960, 1959, 1958, 1957, 1956, 1955, 1954,\n",
       "       1953, 1952, 1951, 1950, 1949, 1948, 1848, 1947, 1946, 1945, 1944,\n",
       "       1943, 1942, 1941, 1940, 1939, 1938, 1937, 1936, 1935, 1934, 1933,\n",
       "       1932, 1931, 1930, 1929, 1928, 1927, 1926, 1925, 1924, 1923, 1922,\n",
       "       1921, 1920, 1919, 1918, 1917, 1916, 1915, 1914, 1913, 1912, 1911,\n",
       "       1910, 1909, 1908, 1907, 1906, 1905, 1904, 1903, 1902, 1901, 1900,\n",
       "       1899, 1898, 1897, 1896, 1895, 1894, 1893, 1892, 1891, 1890, 1889,\n",
       "       1888, 1887, 1886, 1885, 1884, 1883, 1882, 1881, 1880, 1879, 1878,\n",
       "       1877, 1876, 1875, 1874, 1873, 1872, 1871, 1870, 1869, 1868, 1867,\n",
       "       1866, 1865, 1864, 1863, 1862, 1861, 1860, 1859, 1858, 1857, 1856,\n",
       "       1855, 1853, 1852, 1851, 1850, 1849, 1847, 1846, 1845, 1844, 1842,\n",
       "       1841, 1840, 1839, 1837, 1836, 1835, 1834, 1832, 1831, 1830, 1829,\n",
       "       1828, 1827, 1826, 1825, 1823, 1822, 1819, 1818, 1817, 1816, 1815,\n",
       "       1812, 1811, 1810, 1808, 1807, 1805, 1804, 1803, 1802, 1801, 1800,\n",
       "       1797, 1792, 1791, 1788, 1787, 1786, 1785, 1784, 1783, 1780, 1779,\n",
       "       1776, 1771, 1767, 1764, 1758, 1753, 1751, 1749, 1755, 1748, 1742,\n",
       "       1738, 1733, 1723, 1721, 1703, 1700, 1642, 1638, 1637, 1617, 1595,\n",
       "       1580, 1555, 1554, 1543,  500,   77,    5], dtype=int64)"
      ]
     },
     "execution_count": 477,
     "metadata": {},
     "output_type": "execute_result"
    }
   ],
   "source": [
    "# Verificando valores unicos\n",
    "shark['Year'].unique()"
   ]
  },
  {
   "cell_type": "code",
   "execution_count": 478,
   "id": "7a9d7051",
   "metadata": {
    "ExecuteTime": {
     "end_time": "2022-11-02T12:05:37.168183Z",
     "start_time": "2022-11-02T12:05:37.138858Z"
    },
    "hidden": true
   },
   "outputs": [
    {
     "data": {
      "text/plain": [
       "array([2018, 2017, 2016, 2015, 2014, 2013, 2012, 2011, 2010, 2009, 2008,\n",
       "       2007, 2006, 2005, 2004, 2003, 2002, 2001, 2000, 1999, 1998, 1997,\n",
       "       1996, 1995, 1984, 1994, 1993, 1992, 1991, 1990, 1989, 1969, 1988,\n",
       "       1987, 1986, 1985, 1983, 1982, 1981, 1980, 1979, 1978, 1977, 1976,\n",
       "       1975, 1974, 1973, 1972, 1971, 1970, 1968, 1967, 1966, 1965, 1964,\n",
       "       1963, 1962, 1961, 1960, 1959, 1958, 1957, 1956, 1955, 1954, 1953,\n",
       "       1952, 1951, 1950, 1949, 1948, 1848, 1947, 1946, 1945, 1944, 1943,\n",
       "       1942, 1941, 1940, 1939, 1938, 1937, 1936, 1935, 1934, 1933, 1932,\n",
       "       1931, 1930, 1929, 1928, 1927, 1926, 1925, 1924, 1923, 1922, 1921,\n",
       "       1920, 1919, 1918, 1917, 1916, 1915, 1914, 1913, 1912, 1911, 1910,\n",
       "       1909, 1908, 1907, 1906, 1905, 1904, 1903, 1902, 1901, 1900, 1899,\n",
       "       1898, 1897, 1896, 1895, 1894, 1893, 1892, 1891, 1890, 1889, 1888,\n",
       "       1887, 1886, 1885, 1884, 1883, 1882, 1881, 1880, 1879, 1878, 1877,\n",
       "       1876, 1875, 1874, 1873, 1872, 1871, 1870, 1869, 1868, 1867, 1866,\n",
       "       1865, 1864, 1863, 1862, 1861, 1860, 1859, 1858, 1857, 1856, 1855,\n",
       "       1853, 1852, 1851, 1850, 1849, 1847, 1846, 1845, 1844, 1842, 1841,\n",
       "       1840, 1839, 1837, 1836, 1835, 1834, 1832, 1831, 1830, 1829, 1828,\n",
       "       1827, 1826, 1825, 1823, 1822, 1819, 1818, 1817, 1816, 1815, 1812,\n",
       "       1811, 1810, 1808, 1807, 1805, 1804, 1803, 1802, 1801, 1800, 1797,\n",
       "       1792, 1791, 1788, 1787, 1786, 1785, 1784, 1783, 1780, 1779, 1776,\n",
       "       1771, 1767, 1764, 1758, 1753, 1751, 1749, 1755, 1748, 1742, 1738,\n",
       "       1733, 1723, 1721, 1703, 1700, 1642, 1638, 1637, 1617, 1595, 1580,\n",
       "       1555, 1554, 1543], dtype=int64)"
      ]
     },
     "execution_count": 478,
     "metadata": {},
     "output_type": "execute_result"
    }
   ],
   "source": [
    "# Limpeza da coluna 'Year' para apenas ficar dados depois de 1543\n",
    "shark = shark[shark['Year'] >= 1543]\n",
    "shark['Year'].unique()"
   ]
  },
  {
   "cell_type": "markdown",
   "id": "f14bad5c",
   "metadata": {
    "heading_collapsed": true
   },
   "source": [
    "## Renomeando as colunas `Sex` e `Species`"
   ]
  },
  {
   "cell_type": "code",
   "execution_count": 479,
   "id": "601d7c58",
   "metadata": {
    "ExecuteTime": {
     "end_time": "2022-11-02T12:05:37.183777Z",
     "start_time": "2022-11-02T12:05:37.170747Z"
    },
    "hidden": true
   },
   "outputs": [],
   "source": [
    "# Tratamento: Removendo os espaços das colunas e renomeando Sex para Genero\n",
    "shark = shark.rename(columns={'Sex ':'Genero','Species ':'Species'})"
   ]
  },
  {
   "cell_type": "code",
   "execution_count": 480,
   "id": "4ef600b7",
   "metadata": {
    "ExecuteTime": {
     "end_time": "2022-11-02T12:05:37.214565Z",
     "start_time": "2022-11-02T12:05:37.190015Z"
    },
    "hidden": true
   },
   "outputs": [
    {
     "data": {
      "text/plain": [
       "Index(['Case Number', 'Date', 'Year', 'Type', 'Country', 'Area', 'Location',\n",
       "       'Activity', 'Name', 'Genero', 'Age', 'Injury', 'Fatal (Y/N)', 'Time',\n",
       "       'Species'],\n",
       "      dtype='object')"
      ]
     },
     "execution_count": 480,
     "metadata": {},
     "output_type": "execute_result"
    }
   ],
   "source": [
    "shark.columns"
   ]
  },
  {
   "cell_type": "markdown",
   "id": "69087868",
   "metadata": {
    "ExecuteTime": {
     "end_time": "2022-11-01T21:07:02.408168Z",
     "start_time": "2022-11-01T21:07:02.400084Z"
    },
    "heading_collapsed": true
   },
   "source": [
    "## Tratando a coluna `Genero`"
   ]
  },
  {
   "cell_type": "code",
   "execution_count": 481,
   "id": "231d65a8",
   "metadata": {
    "ExecuteTime": {
     "end_time": "2022-11-02T12:05:37.230159Z",
     "start_time": "2022-11-02T12:05:37.215781Z"
    },
    "hidden": true
   },
   "outputs": [
    {
     "data": {
      "text/plain": [
       "array(['F', 'M', 0, 'M ', 'lli', 'N', '.'], dtype=object)"
      ]
     },
     "execution_count": 481,
     "metadata": {},
     "output_type": "execute_result"
    }
   ],
   "source": [
    "# Será necessário mudar os nomes 'F' -> \"Feminino\", 'M' ou 'M ' -> 'Masculino' e 0, 'lli', 'N' e '.' -> Desconhecido\n",
    "shark['Genero'].unique()"
   ]
  },
  {
   "cell_type": "code",
   "execution_count": 482,
   "id": "edf991fc",
   "metadata": {
    "ExecuteTime": {
     "end_time": "2022-11-02T12:05:37.246322Z",
     "start_time": "2022-11-02T12:05:37.234223Z"
    },
    "hidden": true
   },
   "outputs": [],
   "source": [
    "# removendo o espaço da string 'M '\n",
    "shark['Genero'] = shark['Genero'].str.replace(' ', '', regex=True)"
   ]
  },
  {
   "cell_type": "code",
   "execution_count": 483,
   "id": "20dc5f67",
   "metadata": {
    "ExecuteTime": {
     "end_time": "2022-11-02T12:05:37.262083Z",
     "start_time": "2022-11-02T12:05:37.247618Z"
    },
    "hidden": true,
    "scrolled": true
   },
   "outputs": [
    {
     "data": {
      "text/plain": [
       "M      4987\n",
       "F       624\n",
       "N         2\n",
       "lli       1\n",
       ".         1\n",
       "Name: Genero, dtype: int64"
      ]
     },
     "execution_count": 483,
     "metadata": {},
     "output_type": "execute_result"
    }
   ],
   "source": [
    "# 'M ' removido\n",
    "shark['Genero'].value_counts()"
   ]
  },
  {
   "cell_type": "code",
   "execution_count": 484,
   "id": "2534d8d0",
   "metadata": {
    "ExecuteTime": {
     "end_time": "2022-11-02T12:05:37.292619Z",
     "start_time": "2022-11-02T12:05:37.267577Z"
    },
    "code_folding": [],
    "hidden": true,
    "scrolled": false
   },
   "outputs": [
    {
     "data": {
      "text/html": [
       "<div>\n",
       "<style scoped>\n",
       "    .dataframe tbody tr th:only-of-type {\n",
       "        vertical-align: middle;\n",
       "    }\n",
       "\n",
       "    .dataframe tbody tr th {\n",
       "        vertical-align: top;\n",
       "    }\n",
       "\n",
       "    .dataframe thead th {\n",
       "        text-align: right;\n",
       "    }\n",
       "</style>\n",
       "<table border=\"1\" class=\"dataframe\">\n",
       "  <thead>\n",
       "    <tr style=\"text-align: right;\">\n",
       "      <th></th>\n",
       "      <th>Case Number</th>\n",
       "      <th>Date</th>\n",
       "      <th>Year</th>\n",
       "      <th>Type</th>\n",
       "      <th>Country</th>\n",
       "      <th>Area</th>\n",
       "      <th>Location</th>\n",
       "      <th>Activity</th>\n",
       "      <th>Name</th>\n",
       "      <th>Genero</th>\n",
       "      <th>Age</th>\n",
       "      <th>Injury</th>\n",
       "      <th>Fatal (Y/N)</th>\n",
       "      <th>Time</th>\n",
       "      <th>Species</th>\n",
       "    </tr>\n",
       "  </thead>\n",
       "  <tbody>\n",
       "    <tr>\n",
       "      <th>1624</th>\n",
       "      <td>2004.11.11.b</td>\n",
       "      <td>11-Nov-2004</td>\n",
       "      <td>2004</td>\n",
       "      <td>Unprovoked</td>\n",
       "      <td>USA</td>\n",
       "      <td>California</td>\n",
       "      <td>Bunkers, Humboldt Bay, Eureka, Humboldt County</td>\n",
       "      <td>Surfing</td>\n",
       "      <td>Brian Kang</td>\n",
       "      <td>lli</td>\n",
       "      <td>38</td>\n",
       "      <td>Lacerations to hand, knee &amp; thigh</td>\n",
       "      <td>N</td>\n",
       "      <td>13h30</td>\n",
       "      <td>5.5 m [18'] white shark</td>\n",
       "    </tr>\n",
       "  </tbody>\n",
       "</table>\n",
       "</div>"
      ],
      "text/plain": [
       "       Case Number         Date  Year        Type Country        Area  \\\n",
       "1624  2004.11.11.b  11-Nov-2004  2004  Unprovoked     USA  California   \n",
       "\n",
       "                                            Location Activity        Name  \\\n",
       "1624  Bunkers, Humboldt Bay, Eureka, Humboldt County  Surfing  Brian Kang   \n",
       "\n",
       "     Genero Age                              Injury Fatal (Y/N)   Time  \\\n",
       "1624    lli  38  Lacerations to hand, knee & thigh            N  13h30   \n",
       "\n",
       "                      Species  \n",
       "1624  5.5 m [18'] white shark  "
      ]
     },
     "execution_count": 484,
     "metadata": {},
     "output_type": "execute_result"
    }
   ],
   "source": [
    "#Localizar a string 'lli'\n",
    "shark.loc[shark['Genero']=='lli']"
   ]
  },
  {
   "cell_type": "code",
   "execution_count": 485,
   "id": "ab97e9e9",
   "metadata": {
    "ExecuteTime": {
     "end_time": "2022-11-02T12:05:37.339066Z",
     "start_time": "2022-11-02T12:05:37.298579Z"
    },
    "hidden": true
   },
   "outputs": [
    {
     "data": {
      "text/plain": [
       "array(['Female', 'Male', 'Unknown'], dtype=object)"
      ]
     },
     "execution_count": 485,
     "metadata": {},
     "output_type": "execute_result"
    }
   ],
   "source": [
    "# Mudando os nomes das strings 'M', 'F', 'N', 'lli' e '.'\n",
    "# Valore nan para 'Unknonw'\n",
    "shark['Genero'] = shark['Genero'].fillna(\"Unknown\")\n",
    "\n",
    "# Valores 'M', 'lli', 'N' para 'Male  \n",
    "shark['Genero']=shark['Genero'].str.replace('M', 'Male', regex=True)\n",
    "shark['Genero']=shark['Genero'].str.replace('N', 'Male', regex=True)\n",
    "shark['Genero']=shark['Genero'].str.replace('lli', 'Male', regex=True)\n",
    "\n",
    "# Valor 'F' para 'Female'\n",
    "shark['Genero']=shark['Genero'].str.replace('F', 'Female', regex=True)\n",
    "# Valor '.' para 'Unknown'\n",
    "shark['Genero']=shark['Genero'].str.replace('.', 'Unknown', regex=True)\n",
    "shark['Genero'].unique()"
   ]
  },
  {
   "cell_type": "code",
   "execution_count": 486,
   "id": "3b3fd901",
   "metadata": {
    "ExecuteTime": {
     "end_time": "2022-11-02T12:05:37.354307Z",
     "start_time": "2022-11-02T12:05:37.343222Z"
    },
    "hidden": true
   },
   "outputs": [
    {
     "data": {
      "text/plain": [
       "Male       4990\n",
       "Female      624\n",
       "Unknown     558\n",
       "Name: Genero, dtype: int64"
      ]
     },
     "execution_count": 486,
     "metadata": {},
     "output_type": "execute_result"
    }
   ],
   "source": [
    "shark['Genero'].value_counts()"
   ]
  },
  {
   "cell_type": "markdown",
   "id": "0876ccaa",
   "metadata": {
    "heading_collapsed": true
   },
   "source": [
    "## Tratando a coluna `Fatal (Y/N)`"
   ]
  },
  {
   "cell_type": "code",
   "execution_count": 487,
   "id": "3431a391",
   "metadata": {
    "ExecuteTime": {
     "end_time": "2022-11-02T12:05:37.369958Z",
     "start_time": "2022-11-02T12:05:37.356409Z"
    },
    "hidden": true
   },
   "outputs": [],
   "source": [
    "# Removendo espaços\n",
    "shark['Fatal (Y/N)'] = shark['Fatal (Y/N)'].str.replace(' ', '', regex=True)"
   ]
  },
  {
   "cell_type": "code",
   "execution_count": 488,
   "id": "4197f6a3",
   "metadata": {
    "ExecuteTime": {
     "end_time": "2022-11-02T12:05:37.401836Z",
     "start_time": "2022-11-02T12:05:37.371812Z"
    },
    "hidden": true
   },
   "outputs": [
    {
     "data": {
      "text/html": [
       "<div>\n",
       "<style scoped>\n",
       "    .dataframe tbody tr th:only-of-type {\n",
       "        vertical-align: middle;\n",
       "    }\n",
       "\n",
       "    .dataframe tbody tr th {\n",
       "        vertical-align: top;\n",
       "    }\n",
       "\n",
       "    .dataframe thead th {\n",
       "        text-align: right;\n",
       "    }\n",
       "</style>\n",
       "<table border=\"1\" class=\"dataframe\">\n",
       "  <thead>\n",
       "    <tr style=\"text-align: right;\">\n",
       "      <th></th>\n",
       "      <th>Case Number</th>\n",
       "      <th>Date</th>\n",
       "      <th>Year</th>\n",
       "      <th>Type</th>\n",
       "      <th>Country</th>\n",
       "      <th>Area</th>\n",
       "      <th>Location</th>\n",
       "      <th>Activity</th>\n",
       "      <th>Name</th>\n",
       "      <th>Genero</th>\n",
       "      <th>Age</th>\n",
       "      <th>Injury</th>\n",
       "      <th>Fatal (Y/N)</th>\n",
       "      <th>Time</th>\n",
       "      <th>Species</th>\n",
       "    </tr>\n",
       "  </thead>\n",
       "  <tbody>\n",
       "    <tr>\n",
       "      <th>285</th>\n",
       "      <td>2016.04.18.b</td>\n",
       "      <td>18-Apr-2016</td>\n",
       "      <td>2016</td>\n",
       "      <td>Provoked</td>\n",
       "      <td>FRENCH POLYNESIA</td>\n",
       "      <td>Tuamotos</td>\n",
       "      <td>Makemo Atoll</td>\n",
       "      <td>Spearfishing</td>\n",
       "      <td>Hoata Iotua</td>\n",
       "      <td>Male</td>\n",
       "      <td>22</td>\n",
       "      <td>Laceration to knee by speared shark PROVOKED I...</td>\n",
       "      <td>M</td>\n",
       "      <td>Morning</td>\n",
       "      <td>Grey reef shark, 2 m</td>\n",
       "    </tr>\n",
       "  </tbody>\n",
       "</table>\n",
       "</div>"
      ],
      "text/plain": [
       "      Case Number         Date  Year      Type           Country      Area  \\\n",
       "285  2016.04.18.b  18-Apr-2016  2016  Provoked  FRENCH POLYNESIA  Tuamotos   \n",
       "\n",
       "         Location      Activity         Name Genero Age  \\\n",
       "285  Makemo Atoll  Spearfishing  Hoata Iotua   Male  22   \n",
       "\n",
       "                                                Injury Fatal (Y/N)     Time  \\\n",
       "285  Laceration to knee by speared shark PROVOKED I...           M  Morning   \n",
       "\n",
       "                  Species  \n",
       "285  Grey reef shark, 2 m  "
      ]
     },
     "execution_count": 488,
     "metadata": {},
     "output_type": "execute_result"
    }
   ],
   "source": [
    "shark.loc[shark['Fatal (Y/N)']=='M']"
   ]
  },
  {
   "cell_type": "code",
   "execution_count": 489,
   "id": "024840bf",
   "metadata": {
    "ExecuteTime": {
     "end_time": "2022-11-02T12:05:37.447482Z",
     "start_time": "2022-11-02T12:05:37.405183Z"
    },
    "hidden": true,
    "scrolled": true
   },
   "outputs": [
    {
     "data": {
      "text/plain": [
       "array(['N', 'Y', nan, 'M', 'UNKNOWN', '2017', 'y'], dtype=object)"
      ]
     },
     "execution_count": 489,
     "metadata": {},
     "output_type": "execute_result"
    }
   ],
   "source": [
    "shark['Fatal (Y/N)'].unique()"
   ]
  },
  {
   "cell_type": "code",
   "execution_count": 490,
   "id": "b9eadd0c",
   "metadata": {
    "ExecuteTime": {
     "end_time": "2022-11-02T12:05:37.462852Z",
     "start_time": "2022-11-02T12:05:37.448983Z"
    },
    "hidden": true
   },
   "outputs": [],
   "source": [
    "# Valore nan para 'Unknonw'\n",
    "shark['Fatal (Y/N)'] = shark['Fatal (Y/N)'].fillna('Not Confirmed')"
   ]
  },
  {
   "cell_type": "code",
   "execution_count": 491,
   "id": "e41c4908",
   "metadata": {
    "ExecuteTime": {
     "end_time": "2022-11-02T12:05:37.494987Z",
     "start_time": "2022-11-02T12:05:37.465202Z"
    },
    "hidden": true
   },
   "outputs": [],
   "source": [
    "# Removendo espaços, typo e etc\n",
    "shark['Fatal (Y/N)']=shark['Fatal (Y/N)'].str.replace('2017', 'Not Confirmed', regex=True)\n",
    "shark['Fatal (Y/N)']=shark['Fatal (Y/N)'].str.replace('M', 'N', regex=True)\n",
    "shark['Fatal (Y/N)']=shark['Fatal (Y/N)'].str.replace('y', 'Y', regex=True)"
   ]
  },
  {
   "cell_type": "code",
   "execution_count": 492,
   "id": "1c5afb7d",
   "metadata": {
    "ExecuteTime": {
     "end_time": "2022-11-02T12:05:37.510325Z",
     "start_time": "2022-11-02T12:05:37.501320Z"
    },
    "hidden": true
   },
   "outputs": [
    {
     "data": {
      "text/plain": [
       "N                4236\n",
       "Y                1328\n",
       "Not Confirmed     538\n",
       "UNKNOWN            70\n",
       "Name: Fatal (Y/N), dtype: int64"
      ]
     },
     "execution_count": 492,
     "metadata": {},
     "output_type": "execute_result"
    }
   ],
   "source": [
    "shark['Fatal (Y/N)'].value_counts()"
   ]
  },
  {
   "cell_type": "markdown",
   "id": "852dccf3",
   "metadata": {
    "ExecuteTime": {
     "end_time": "2022-10-30T20:55:55.305406Z",
     "start_time": "2022-10-30T20:55:55.283109Z"
    },
    "heading_collapsed": true
   },
   "source": [
    "# Análise dos Dados"
   ]
  },
  {
   "cell_type": "markdown",
   "id": "a5f2a6bb",
   "metadata": {
    "heading_collapsed": true,
    "hidden": true
   },
   "source": [
    "## Entre 1543 e 2018, qual o ano foi registrado mais ataques?"
   ]
  },
  {
   "cell_type": "code",
   "execution_count": 493,
   "id": "a02091b5",
   "metadata": {
    "ExecuteTime": {
     "end_time": "2022-11-02T12:05:37.541023Z",
     "start_time": "2022-11-02T12:05:37.514790Z"
    },
    "hidden": true,
    "scrolled": true
   },
   "outputs": [
    {
     "data": {
      "text/html": [
       "<div>\n",
       "<style scoped>\n",
       "    .dataframe tbody tr th:only-of-type {\n",
       "        vertical-align: middle;\n",
       "    }\n",
       "\n",
       "    .dataframe tbody tr th {\n",
       "        vertical-align: top;\n",
       "    }\n",
       "\n",
       "    .dataframe thead th {\n",
       "        text-align: right;\n",
       "    }\n",
       "</style>\n",
       "<table border=\"1\" class=\"dataframe\">\n",
       "  <thead>\n",
       "    <tr style=\"text-align: right;\">\n",
       "      <th></th>\n",
       "      <th>Year</th>\n",
       "      <th>Count</th>\n",
       "    </tr>\n",
       "  </thead>\n",
       "  <tbody>\n",
       "    <tr>\n",
       "      <th>0</th>\n",
       "      <td>2015</td>\n",
       "      <td>143</td>\n",
       "    </tr>\n",
       "    <tr>\n",
       "      <th>1</th>\n",
       "      <td>2017</td>\n",
       "      <td>136</td>\n",
       "    </tr>\n",
       "    <tr>\n",
       "      <th>2</th>\n",
       "      <td>2016</td>\n",
       "      <td>130</td>\n",
       "    </tr>\n",
       "    <tr>\n",
       "      <th>3</th>\n",
       "      <td>2011</td>\n",
       "      <td>128</td>\n",
       "    </tr>\n",
       "    <tr>\n",
       "      <th>4</th>\n",
       "      <td>2014</td>\n",
       "      <td>127</td>\n",
       "    </tr>\n",
       "  </tbody>\n",
       "</table>\n",
       "</div>"
      ],
      "text/plain": [
       "   Year  Count\n",
       "0  2015    143\n",
       "1  2017    136\n",
       "2  2016    130\n",
       "3  2011    128\n",
       "4  2014    127"
      ]
     },
     "execution_count": 493,
     "metadata": {},
     "output_type": "execute_result"
    }
   ],
   "source": [
    "shark['Year'].value_counts().reset_index().rename(columns= {'Year': 'Count', 'index':'Year'}).head(5)"
   ]
  },
  {
   "cell_type": "markdown",
   "id": "e21a5947",
   "metadata": {
    "heading_collapsed": true,
    "hidden": true
   },
   "source": [
    "## Entre 1543 e 2018, qual país registrou mais ocorrências de ataques?"
   ]
  },
  {
   "cell_type": "code",
   "execution_count": 494,
   "id": "576f3b27",
   "metadata": {
    "ExecuteTime": {
     "end_time": "2022-11-02T12:05:37.556399Z",
     "start_time": "2022-11-02T12:05:37.542539Z"
    },
    "hidden": true
   },
   "outputs": [
    {
     "data": {
      "text/html": [
       "<div>\n",
       "<style scoped>\n",
       "    .dataframe tbody tr th:only-of-type {\n",
       "        vertical-align: middle;\n",
       "    }\n",
       "\n",
       "    .dataframe tbody tr th {\n",
       "        vertical-align: top;\n",
       "    }\n",
       "\n",
       "    .dataframe thead th {\n",
       "        text-align: right;\n",
       "    }\n",
       "</style>\n",
       "<table border=\"1\" class=\"dataframe\">\n",
       "  <thead>\n",
       "    <tr style=\"text-align: right;\">\n",
       "      <th></th>\n",
       "      <th>Country</th>\n",
       "      <th>Count</th>\n",
       "    </tr>\n",
       "  </thead>\n",
       "  <tbody>\n",
       "    <tr>\n",
       "      <th>0</th>\n",
       "      <td>USA</td>\n",
       "      <td>2212</td>\n",
       "    </tr>\n",
       "    <tr>\n",
       "      <th>1</th>\n",
       "      <td>AUSTRALIA</td>\n",
       "      <td>1320</td>\n",
       "    </tr>\n",
       "    <tr>\n",
       "      <th>2</th>\n",
       "      <td>SOUTH AFRICA</td>\n",
       "      <td>571</td>\n",
       "    </tr>\n",
       "    <tr>\n",
       "      <th>3</th>\n",
       "      <td>PAPUA NEW GUINEA</td>\n",
       "      <td>130</td>\n",
       "    </tr>\n",
       "    <tr>\n",
       "      <th>4</th>\n",
       "      <td>NEW ZEALAND</td>\n",
       "      <td>127</td>\n",
       "    </tr>\n",
       "  </tbody>\n",
       "</table>\n",
       "</div>"
      ],
      "text/plain": [
       "            Country  Count\n",
       "0               USA   2212\n",
       "1         AUSTRALIA   1320\n",
       "2      SOUTH AFRICA    571\n",
       "3  PAPUA NEW GUINEA    130\n",
       "4       NEW ZEALAND    127"
      ]
     },
     "execution_count": 494,
     "metadata": {},
     "output_type": "execute_result"
    }
   ],
   "source": [
    "#shark.groupby(by='Country')['Year'].value_counts()\n",
    "shark['Country'].value_counts().reset_index().rename(columns= {'Country': 'Count', 'index':'Country'}).head(5)"
   ]
  },
  {
   "cell_type": "markdown",
   "id": "30f18361",
   "metadata": {
    "heading_collapsed": true,
    "hidden": true
   },
   "source": [
    "## Entre 1543 e 2018, qual gênero sofreu mais ataques?"
   ]
  },
  {
   "cell_type": "code",
   "execution_count": 495,
   "id": "62e4e329",
   "metadata": {
    "ExecuteTime": {
     "end_time": "2022-11-02T12:05:37.572305Z",
     "start_time": "2022-11-02T12:05:37.558323Z"
    },
    "hidden": true
   },
   "outputs": [
    {
     "data": {
      "text/html": [
       "<div>\n",
       "<style scoped>\n",
       "    .dataframe tbody tr th:only-of-type {\n",
       "        vertical-align: middle;\n",
       "    }\n",
       "\n",
       "    .dataframe tbody tr th {\n",
       "        vertical-align: top;\n",
       "    }\n",
       "\n",
       "    .dataframe thead th {\n",
       "        text-align: right;\n",
       "    }\n",
       "</style>\n",
       "<table border=\"1\" class=\"dataframe\">\n",
       "  <thead>\n",
       "    <tr style=\"text-align: right;\">\n",
       "      <th></th>\n",
       "      <th>Genero</th>\n",
       "      <th>Count</th>\n",
       "    </tr>\n",
       "  </thead>\n",
       "  <tbody>\n",
       "    <tr>\n",
       "      <th>0</th>\n",
       "      <td>Male</td>\n",
       "      <td>4990</td>\n",
       "    </tr>\n",
       "    <tr>\n",
       "      <th>1</th>\n",
       "      <td>Female</td>\n",
       "      <td>624</td>\n",
       "    </tr>\n",
       "    <tr>\n",
       "      <th>2</th>\n",
       "      <td>Unknown</td>\n",
       "      <td>558</td>\n",
       "    </tr>\n",
       "  </tbody>\n",
       "</table>\n",
       "</div>"
      ],
      "text/plain": [
       "    Genero  Count\n",
       "0     Male   4990\n",
       "1   Female    624\n",
       "2  Unknown    558"
      ]
     },
     "execution_count": 495,
     "metadata": {},
     "output_type": "execute_result"
    }
   ],
   "source": [
    "shark['Genero'].value_counts().reset_index().rename(columns= {'Genero': 'Count', 'index':'Genero'}).head(5)"
   ]
  },
  {
   "cell_type": "markdown",
   "id": "13610125",
   "metadata": {
    "hidden": true
   },
   "source": [
    "##  Visto que o ano onde teve mais ataques foi 2015:"
   ]
  },
  {
   "cell_type": "markdown",
   "id": "ffe36877",
   "metadata": {
    "hidden": true
   },
   "source": [
    "Agrupando a coluna `Year` e salvando em um novo dataframe `shark_2015`"
   ]
  },
  {
   "cell_type": "code",
   "execution_count": 496,
   "id": "8fb2bff6",
   "metadata": {
    "ExecuteTime": {
     "end_time": "2022-11-02T12:05:37.603266Z",
     "start_time": "2022-11-02T12:05:37.574546Z"
    },
    "hidden": true
   },
   "outputs": [],
   "source": [
    "# Filtrar por país e adicionar a um novo dataframe chamado shark_2015\n",
    "shark_2015 = shark.groupby(by='Year').get_group(2015)"
   ]
  },
  {
   "cell_type": "markdown",
   "id": "42b29101",
   "metadata": {
    "ExecuteTime": {
     "end_time": "2022-10-30T21:42:15.086325Z",
     "start_time": "2022-10-30T21:42:15.042942Z"
    },
    "hidden": true
   },
   "source": [
    "###  Qual o país teve mais ocorrências de ataques?\n"
   ]
  },
  {
   "cell_type": "code",
   "execution_count": 497,
   "id": "7e3eae0f",
   "metadata": {
    "ExecuteTime": {
     "end_time": "2022-11-02T12:05:37.618012Z",
     "start_time": "2022-11-02T12:05:37.605583Z"
    },
    "hidden": true
   },
   "outputs": [
    {
     "data": {
      "text/html": [
       "<div>\n",
       "<style scoped>\n",
       "    .dataframe tbody tr th:only-of-type {\n",
       "        vertical-align: middle;\n",
       "    }\n",
       "\n",
       "    .dataframe tbody tr th {\n",
       "        vertical-align: top;\n",
       "    }\n",
       "\n",
       "    .dataframe thead th {\n",
       "        text-align: right;\n",
       "    }\n",
       "</style>\n",
       "<table border=\"1\" class=\"dataframe\">\n",
       "  <thead>\n",
       "    <tr style=\"text-align: right;\">\n",
       "      <th></th>\n",
       "      <th>Country</th>\n",
       "      <th>Count</th>\n",
       "    </tr>\n",
       "  </thead>\n",
       "  <tbody>\n",
       "    <tr>\n",
       "      <th>0</th>\n",
       "      <td>USA</td>\n",
       "      <td>73</td>\n",
       "    </tr>\n",
       "    <tr>\n",
       "      <th>1</th>\n",
       "      <td>AUSTRALIA</td>\n",
       "      <td>31</td>\n",
       "    </tr>\n",
       "    <tr>\n",
       "      <th>2</th>\n",
       "      <td>SOUTH AFRICA</td>\n",
       "      <td>10</td>\n",
       "    </tr>\n",
       "    <tr>\n",
       "      <th>3</th>\n",
       "      <td>REUNION</td>\n",
       "      <td>4</td>\n",
       "    </tr>\n",
       "    <tr>\n",
       "      <th>4</th>\n",
       "      <td>FRENCH POLYNESIA</td>\n",
       "      <td>4</td>\n",
       "    </tr>\n",
       "  </tbody>\n",
       "</table>\n",
       "</div>"
      ],
      "text/plain": [
       "            Country  Count\n",
       "0               USA     73\n",
       "1         AUSTRALIA     31\n",
       "2      SOUTH AFRICA     10\n",
       "3           REUNION      4\n",
       "4  FRENCH POLYNESIA      4"
      ]
     },
     "execution_count": 497,
     "metadata": {},
     "output_type": "execute_result"
    }
   ],
   "source": [
    "shark_2015['Country'].value_counts().reset_index().rename(columns= {'Country': 'Count', 'index':'Country'}).head(5)"
   ]
  },
  {
   "cell_type": "markdown",
   "id": "886475de",
   "metadata": {
    "hidden": true
   },
   "source": [
    "### Qual a espécie que mais atacou?<br>\n"
   ]
  },
  {
   "cell_type": "markdown",
   "id": "c1e72dda",
   "metadata": {
    "hidden": true
   },
   "source": [
    "Tratando a coluna `Species`"
   ]
  },
  {
   "cell_type": "code",
   "execution_count": 498,
   "id": "3af52713",
   "metadata": {
    "ExecuteTime": {
     "end_time": "2022-11-02T12:05:40.459395Z",
     "start_time": "2022-11-02T12:05:40.247792Z"
    },
    "hidden": true
   },
   "outputs": [
    {
     "name": "stderr",
     "output_type": "stream",
     "text": [
      "C:\\Users\\fezin\\AppData\\Local\\Temp\\ipykernel_69260\\184435640.py:2: SettingWithCopyWarning: \n",
      "A value is trying to be set on a copy of a slice from a DataFrame.\n",
      "Try using .loc[row_indexer,col_indexer] = value instead\n",
      "\n",
      "See the caveats in the documentation: https://pandas.pydata.org/pandas-docs/stable/user_guide/indexing.html#returning-a-view-versus-a-copy\n",
      "  shark_2015['Species']=shark_2015['Species'].str.lower().str.replace('.*(white shark).*', 'white shark', regex=True)\n",
      "C:\\Users\\fezin\\AppData\\Local\\Temp\\ipykernel_69260\\184435640.py:3: SettingWithCopyWarning: \n",
      "A value is trying to be set on a copy of a slice from a DataFrame.\n",
      "Try using .loc[row_indexer,col_indexer] = value instead\n",
      "\n",
      "See the caveats in the documentation: https://pandas.pydata.org/pandas-docs/stable/user_guide/indexing.html#returning-a-view-versus-a-copy\n",
      "  shark_2015['Species']=shark_2015['Species'].str.lower().str.replace('.*(bull shark).*', 'bull shark', regex=True)\n",
      "C:\\Users\\fezin\\AppData\\Local\\Temp\\ipykernel_69260\\184435640.py:4: SettingWithCopyWarning: \n",
      "A value is trying to be set on a copy of a slice from a DataFrame.\n",
      "Try using .loc[row_indexer,col_indexer] = value instead\n",
      "\n",
      "See the caveats in the documentation: https://pandas.pydata.org/pandas-docs/stable/user_guide/indexing.html#returning-a-view-versus-a-copy\n",
      "  shark_2015['Species']=shark_2015['Species'].str.lower().str.replace('.*(tiger shark).*', 'tiger shark', regex=True)\n",
      "C:\\Users\\fezin\\AppData\\Local\\Temp\\ipykernel_69260\\184435640.py:5: SettingWithCopyWarning: \n",
      "A value is trying to be set on a copy of a slice from a DataFrame.\n",
      "Try using .loc[row_indexer,col_indexer] = value instead\n",
      "\n",
      "See the caveats in the documentation: https://pandas.pydata.org/pandas-docs/stable/user_guide/indexing.html#returning-a-view-versus-a-copy\n",
      "  shark_2015['Species']=shark_2015['Species'].str.lower().str.replace('.*(mako shark).*', 'mako shark', regex=True)\n",
      "C:\\Users\\fezin\\AppData\\Local\\Temp\\ipykernel_69260\\184435640.py:6: SettingWithCopyWarning: \n",
      "A value is trying to be set on a copy of a slice from a DataFrame.\n",
      "Try using .loc[row_indexer,col_indexer] = value instead\n",
      "\n",
      "See the caveats in the documentation: https://pandas.pydata.org/pandas-docs/stable/user_guide/indexing.html#returning-a-view-versus-a-copy\n",
      "  shark_2015['Species']=shark_2015['Species'].str.lower().str.replace('.*(small shark).*', 'small shark', regex=True)\n",
      "C:\\Users\\fezin\\AppData\\Local\\Temp\\ipykernel_69260\\184435640.py:7: SettingWithCopyWarning: \n",
      "A value is trying to be set on a copy of a slice from a DataFrame.\n",
      "Try using .loc[row_indexer,col_indexer] = value instead\n",
      "\n",
      "See the caveats in the documentation: https://pandas.pydata.org/pandas-docs/stable/user_guide/indexing.html#returning-a-view-versus-a-copy\n",
      "  shark_2015['Species']=shark_2015['Species'].str.lower().str.replace('.*(small nurse shark).*', 'small shark', regex=True)\n",
      "C:\\Users\\fezin\\AppData\\Local\\Temp\\ipykernel_69260\\184435640.py:8: SettingWithCopyWarning: \n",
      "A value is trying to be set on a copy of a slice from a DataFrame.\n",
      "Try using .loc[row_indexer,col_indexer] = value instead\n",
      "\n",
      "See the caveats in the documentation: https://pandas.pydata.org/pandas-docs/stable/user_guide/indexing.html#returning-a-view-versus-a-copy\n",
      "  shark_2015['Species']=shark_2015['Species'].str.lower().str.replace('.*(wobbegong shark).*', 'wobbegong shark', regex=True)\n",
      "C:\\Users\\fezin\\AppData\\Local\\Temp\\ipykernel_69260\\184435640.py:9: SettingWithCopyWarning: \n",
      "A value is trying to be set on a copy of a slice from a DataFrame.\n",
      "Try using .loc[row_indexer,col_indexer] = value instead\n",
      "\n",
      "See the caveats in the documentation: https://pandas.pydata.org/pandas-docs/stable/user_guide/indexing.html#returning-a-view-versus-a-copy\n",
      "  shark_2015['Species']=shark_2015['Species'].str.lower().str.replace('.*(bronze whaler shark).*', 'bronze whaler shark', regex=True)\n",
      "C:\\Users\\fezin\\AppData\\Local\\Temp\\ipykernel_69260\\184435640.py:10: SettingWithCopyWarning: \n",
      "A value is trying to be set on a copy of a slice from a DataFrame.\n",
      "Try using .loc[row_indexer,col_indexer] = value instead\n",
      "\n",
      "See the caveats in the documentation: https://pandas.pydata.org/pandas-docs/stable/user_guide/indexing.html#returning-a-view-versus-a-copy\n",
      "  shark_2015['Species']=shark_2015['Species'].str.lower().str.replace('.*(blue shark).*', 'blue shark', regex=True)\n",
      "C:\\Users\\fezin\\AppData\\Local\\Temp\\ipykernel_69260\\184435640.py:11: SettingWithCopyWarning: \n",
      "A value is trying to be set on a copy of a slice from a DataFrame.\n",
      "Try using .loc[row_indexer,col_indexer] = value instead\n",
      "\n",
      "See the caveats in the documentation: https://pandas.pydata.org/pandas-docs/stable/user_guide/indexing.html#returning-a-view-versus-a-copy\n",
      "  shark_2015['Species']=shark_2015['Species'].str.lower().str.replace('.*(blacktip shark).*', 'blacktip shark', regex=True)\n",
      "C:\\Users\\fezin\\AppData\\Local\\Temp\\ipykernel_69260\\184435640.py:12: SettingWithCopyWarning: \n",
      "A value is trying to be set on a copy of a slice from a DataFrame.\n",
      "Try using .loc[row_indexer,col_indexer] = value instead\n",
      "\n",
      "See the caveats in the documentation: https://pandas.pydata.org/pandas-docs/stable/user_guide/indexing.html#returning-a-view-versus-a-copy\n",
      "  shark_2015['Species']=shark_2015['Species'].str.lower().str.replace('.*(blacktip reef shark).*', 'blacktip shark', regex=True)\n",
      "C:\\Users\\fezin\\AppData\\Local\\Temp\\ipykernel_69260\\184435640.py:13: SettingWithCopyWarning: \n",
      "A value is trying to be set on a copy of a slice from a DataFrame.\n",
      "Try using .loc[row_indexer,col_indexer] = value instead\n",
      "\n",
      "See the caveats in the documentation: https://pandas.pydata.org/pandas-docs/stable/user_guide/indexing.html#returning-a-view-versus-a-copy\n",
      "  shark_2015['Species']=shark_2015['Species'].str.lower().str.replace('.*(hammerhead shark).*', 'hammerhead shark', regex=True)\n",
      "C:\\Users\\fezin\\AppData\\Local\\Temp\\ipykernel_69260\\184435640.py:14: SettingWithCopyWarning: \n",
      "A value is trying to be set on a copy of a slice from a DataFrame.\n",
      "Try using .loc[row_indexer,col_indexer] = value instead\n",
      "\n",
      "See the caveats in the documentation: https://pandas.pydata.org/pandas-docs/stable/user_guide/indexing.html#returning-a-view-versus-a-copy\n",
      "  shark_2015['Species']=shark_2015['Species'].str.lower().str.replace('.*(spinner shark).*', 'spinner shark', regex=True)\n",
      "C:\\Users\\fezin\\AppData\\Local\\Temp\\ipykernel_69260\\184435640.py:15: SettingWithCopyWarning: \n",
      "A value is trying to be set on a copy of a slice from a DataFrame.\n",
      "Try using .loc[row_indexer,col_indexer] = value instead\n",
      "\n",
      "See the caveats in the documentation: https://pandas.pydata.org/pandas-docs/stable/user_guide/indexing.html#returning-a-view-versus-a-copy\n",
      "  shark_2015['Species']=shark_2015['Species'].str.lower().str.replace('.*(hammerhead sp).*', 'hammerhead shark', regex=True)\n",
      "C:\\Users\\fezin\\AppData\\Local\\Temp\\ipykernel_69260\\184435640.py:16: SettingWithCopyWarning: \n",
      "A value is trying to be set on a copy of a slice from a DataFrame.\n",
      "Try using .loc[row_indexer,col_indexer] = value instead\n",
      "\n",
      "See the caveats in the documentation: https://pandas.pydata.org/pandas-docs/stable/user_guide/indexing.html#returning-a-view-versus-a-copy\n",
      "  shark_2015['Species']=shark_2015['Species'].str.lower().str.replace('.*(raggedtooth shark).*', 'raggedtooth shark', regex=True)\n",
      "C:\\Users\\fezin\\AppData\\Local\\Temp\\ipykernel_69260\\184435640.py:17: SettingWithCopyWarning: \n",
      "A value is trying to be set on a copy of a slice from a DataFrame.\n",
      "Try using .loc[row_indexer,col_indexer] = value instead\n",
      "\n",
      "See the caveats in the documentation: https://pandas.pydata.org/pandas-docs/stable/user_guide/indexing.html#returning-a-view-versus-a-copy\n",
      "  shark_2015['Species']=shark_2015['Species'].str.lower().str.replace('.*(silky shark).*', 'silky shark', regex=True)\n",
      "C:\\Users\\fezin\\AppData\\Local\\Temp\\ipykernel_69260\\184435640.py:18: SettingWithCopyWarning: \n",
      "A value is trying to be set on a copy of a slice from a DataFrame.\n",
      "Try using .loc[row_indexer,col_indexer] = value instead\n",
      "\n",
      "See the caveats in the documentation: https://pandas.pydata.org/pandas-docs/stable/user_guide/indexing.html#returning-a-view-versus-a-copy\n",
      "  shark_2015['Species']=shark_2015['Species'].str.lower().str.replace('.*(juvenile shark).*', 'juvenile shark', regex=True)\n",
      "C:\\Users\\fezin\\AppData\\Local\\Temp\\ipykernel_69260\\184435640.py:19: SettingWithCopyWarning: \n",
      "A value is trying to be set on a copy of a slice from a DataFrame.\n",
      "Try using .loc[row_indexer,col_indexer] = value instead\n",
      "\n",
      "See the caveats in the documentation: https://pandas.pydata.org/pandas-docs/stable/user_guide/indexing.html#returning-a-view-versus-a-copy\n",
      "  shark_2015['Species']=shark_2015['Species'].str.lower().str.replace('.*(4).*', 'shark not confirmed', regex=True)\n",
      "C:\\Users\\fezin\\AppData\\Local\\Temp\\ipykernel_69260\\184435640.py:20: SettingWithCopyWarning: \n",
      "A value is trying to be set on a copy of a slice from a DataFrame.\n",
      "Try using .loc[row_indexer,col_indexer] = value instead\n",
      "\n",
      "See the caveats in the documentation: https://pandas.pydata.org/pandas-docs/stable/user_guide/indexing.html#returning-a-view-versus-a-copy\n",
      "  shark_2015['Species']=shark_2015['Species'].str.lower().str.replace('.*(shark involvement not confirmed).*', 'shark not confirmed', regex=True)\n",
      "C:\\Users\\fezin\\AppData\\Local\\Temp\\ipykernel_69260\\184435640.py:21: SettingWithCopyWarning: \n",
      "A value is trying to be set on a copy of a slice from a DataFrame.\n",
      "Try using .loc[row_indexer,col_indexer] = value instead\n",
      "\n",
      "See the caveats in the documentation: https://pandas.pydata.org/pandas-docs/stable/user_guide/indexing.html#returning-a-view-versus-a-copy\n",
      "  shark_2015['Species']=shark_2015['Species'].str.lower().str.replace('.*(6).*', 'shark not confirmed', regex=True)\n",
      "C:\\Users\\fezin\\AppData\\Local\\Temp\\ipykernel_69260\\184435640.py:22: SettingWithCopyWarning: \n",
      "A value is trying to be set on a copy of a slice from a DataFrame.\n",
      "Try using .loc[row_indexer,col_indexer] = value instead\n",
      "\n",
      "See the caveats in the documentation: https://pandas.pydata.org/pandas-docs/stable/user_guide/indexing.html#returning-a-view-versus-a-copy\n",
      "  shark_2015['Species']=shark_2015['Species'].str.lower().str.replace('.*(5).*', 'shark not confirmed', regex=True)\n",
      "C:\\Users\\fezin\\AppData\\Local\\Temp\\ipykernel_69260\\184435640.py:23: SettingWithCopyWarning: \n",
      "A value is trying to be set on a copy of a slice from a DataFrame.\n",
      "Try using .loc[row_indexer,col_indexer] = value instead\n",
      "\n",
      "See the caveats in the documentation: https://pandas.pydata.org/pandas-docs/stable/user_guide/indexing.html#returning-a-view-versus-a-copy\n",
      "  shark_2015['Species']=shark_2015['Species'].str.lower().str.replace('.*(9).*', 'shark not confirmed', regex=True)\n",
      "C:\\Users\\fezin\\AppData\\Local\\Temp\\ipykernel_69260\\184435640.py:24: SettingWithCopyWarning: \n",
      "A value is trying to be set on a copy of a slice from a DataFrame.\n",
      "Try using .loc[row_indexer,col_indexer] = value instead\n",
      "\n",
      "See the caveats in the documentation: https://pandas.pydata.org/pandas-docs/stable/user_guide/indexing.html#returning-a-view-versus-a-copy\n",
      "  shark_2015['Species']=shark_2015['Species'].str.lower().str.replace('.*(1).*', 'shark not confirmed', regex=True)\n",
      "C:\\Users\\fezin\\AppData\\Local\\Temp\\ipykernel_69260\\184435640.py:25: SettingWithCopyWarning: \n",
      "A value is trying to be set on a copy of a slice from a DataFrame.\n",
      "Try using .loc[row_indexer,col_indexer] = value instead\n",
      "\n",
      "See the caveats in the documentation: https://pandas.pydata.org/pandas-docs/stable/user_guide/indexing.html#returning-a-view-versus-a-copy\n",
      "  shark_2015['Species']=shark_2015['Species'].str.lower().str.replace('.*(3).*', 'shark not confirmed', regex=True)\n"
     ]
    }
   ],
   "source": [
    "# Tratamento da coluna 'Species'\n",
    "shark_2015['Species']=shark_2015['Species'].str.lower().str.replace('.*(white shark).*', 'white shark', regex=True)\n",
    "shark_2015['Species']=shark_2015['Species'].str.lower().str.replace('.*(bull shark).*', 'bull shark', regex=True)\n",
    "shark_2015['Species']=shark_2015['Species'].str.lower().str.replace('.*(tiger shark).*', 'tiger shark', regex=True)\n",
    "shark_2015['Species']=shark_2015['Species'].str.lower().str.replace('.*(mako shark).*', 'mako shark', regex=True)\n",
    "shark_2015['Species']=shark_2015['Species'].str.lower().str.replace('.*(small shark).*', 'small shark', regex=True)\n",
    "shark_2015['Species']=shark_2015['Species'].str.lower().str.replace('.*(small nurse shark).*', 'small shark', regex=True)\n",
    "shark_2015['Species']=shark_2015['Species'].str.lower().str.replace('.*(wobbegong shark).*', 'wobbegong shark', regex=True)\n",
    "shark_2015['Species']=shark_2015['Species'].str.lower().str.replace('.*(bronze whaler shark).*', 'bronze whaler shark', regex=True)\n",
    "shark_2015['Species']=shark_2015['Species'].str.lower().str.replace('.*(blue shark).*', 'blue shark', regex=True)\n",
    "shark_2015['Species']=shark_2015['Species'].str.lower().str.replace('.*(blacktip shark).*', 'blacktip shark', regex=True)\n",
    "shark_2015['Species']=shark_2015['Species'].str.lower().str.replace('.*(blacktip reef shark).*', 'blacktip shark', regex=True)\n",
    "shark_2015['Species']=shark_2015['Species'].str.lower().str.replace('.*(hammerhead shark).*', 'hammerhead shark', regex=True)\n",
    "shark_2015['Species']=shark_2015['Species'].str.lower().str.replace('.*(spinner shark).*', 'spinner shark', regex=True)\n",
    "shark_2015['Species']=shark_2015['Species'].str.lower().str.replace('.*(hammerhead sp).*', 'hammerhead shark', regex=True)\n",
    "shark_2015['Species']=shark_2015['Species'].str.lower().str.replace('.*(raggedtooth shark).*', 'raggedtooth shark', regex=True)\n",
    "shark_2015['Species']=shark_2015['Species'].str.lower().str.replace('.*(silky shark).*', 'silky shark', regex=True)\n",
    "shark_2015['Species']=shark_2015['Species'].str.lower().str.replace('.*(juvenile shark).*', 'juvenile shark', regex=True)\n",
    "shark_2015['Species']=shark_2015['Species'].str.lower().str.replace('.*(4).*', 'shark not confirmed', regex=True)\n",
    "shark_2015['Species']=shark_2015['Species'].str.lower().str.replace('.*(shark involvement not confirmed).*', 'shark not confirmed', regex=True)\n",
    "shark_2015['Species']=shark_2015['Species'].str.lower().str.replace('.*(6).*', 'shark not confirmed', regex=True)\n",
    "shark_2015['Species']=shark_2015['Species'].str.lower().str.replace('.*(5).*', 'shark not confirmed', regex=True)\n",
    "shark_2015['Species']=shark_2015['Species'].str.lower().str.replace('.*(9).*', 'shark not confirmed', regex=True)\n",
    "shark_2015['Species']=shark_2015['Species'].str.lower().str.replace('.*(1).*', 'shark not confirmed', regex=True)\n",
    "shark_2015['Species']=shark_2015['Species'].str.lower().str.replace('.*(3).*', 'shark not confirmed', regex=True)\n"
   ]
  },
  {
   "cell_type": "code",
   "execution_count": 499,
   "id": "5b6ac102",
   "metadata": {
    "ExecuteTime": {
     "end_time": "2022-11-02T12:05:43.199542Z",
     "start_time": "2022-11-02T12:05:43.181900Z"
    },
    "hidden": true
   },
   "outputs": [
    {
     "data": {
      "text/plain": [
       "array(['white shark', 'silky shark', 'shark not confirmed',\n",
       "       'bronze whaler shark', 'tiger shark', nan, 'bull shark',\n",
       "       'galapagos shark', 'spinner shark', 'no shark involvement',\n",
       "       'hammerhead shark', 'blacktip shark', 'juvenile shark',\n",
       "       'small shark', 'mako shark', 'shark involvement not cofirmed',\n",
       "       'wobbegong shark', 'blue shark', 'raggedtooth shark'], dtype=object)"
      ]
     },
     "execution_count": 499,
     "metadata": {},
     "output_type": "execute_result"
    }
   ],
   "source": [
    "shark_2015['Species'].unique()"
   ]
  },
  {
   "cell_type": "code",
   "execution_count": 500,
   "id": "70a85f26",
   "metadata": {
    "ExecuteTime": {
     "end_time": "2022-11-02T12:05:47.783306Z",
     "start_time": "2022-11-02T12:05:47.759601Z"
    },
    "hidden": true,
    "scrolled": true
   },
   "outputs": [
    {
     "data": {
      "text/html": [
       "<div>\n",
       "<style scoped>\n",
       "    .dataframe tbody tr th:only-of-type {\n",
       "        vertical-align: middle;\n",
       "    }\n",
       "\n",
       "    .dataframe tbody tr th {\n",
       "        vertical-align: top;\n",
       "    }\n",
       "\n",
       "    .dataframe thead th {\n",
       "        text-align: right;\n",
       "    }\n",
       "</style>\n",
       "<table border=\"1\" class=\"dataframe\">\n",
       "  <thead>\n",
       "    <tr style=\"text-align: right;\">\n",
       "      <th></th>\n",
       "      <th>Count</th>\n",
       "      <th>Species</th>\n",
       "    </tr>\n",
       "  </thead>\n",
       "  <tbody>\n",
       "    <tr>\n",
       "      <th>0</th>\n",
       "      <td>shark not confirmed</td>\n",
       "      <td>30</td>\n",
       "    </tr>\n",
       "    <tr>\n",
       "      <th>1</th>\n",
       "      <td>white shark</td>\n",
       "      <td>26</td>\n",
       "    </tr>\n",
       "    <tr>\n",
       "      <th>2</th>\n",
       "      <td>bull shark</td>\n",
       "      <td>12</td>\n",
       "    </tr>\n",
       "    <tr>\n",
       "      <th>3</th>\n",
       "      <td>tiger shark</td>\n",
       "      <td>8</td>\n",
       "    </tr>\n",
       "    <tr>\n",
       "      <th>4</th>\n",
       "      <td>no shark involvement</td>\n",
       "      <td>4</td>\n",
       "    </tr>\n",
       "  </tbody>\n",
       "</table>\n",
       "</div>"
      ],
      "text/plain": [
       "                  Count  Species\n",
       "0   shark not confirmed       30\n",
       "1           white shark       26\n",
       "2            bull shark       12\n",
       "3           tiger shark        8\n",
       "4  no shark involvement        4"
      ]
     },
     "execution_count": 500,
     "metadata": {},
     "output_type": "execute_result"
    }
   ],
   "source": [
    "shark_2015['Species'].value_counts().reset_index().rename(columns= {'Genero': 'Species', 'index':'Count'}).head(5)"
   ]
  },
  {
   "cell_type": "markdown",
   "id": "c1ba164c",
   "metadata": {
    "hidden": true
   },
   "source": [
    "### Qual a porcentagem de homens e mulheres atacados?"
   ]
  },
  {
   "cell_type": "code",
   "execution_count": 394,
   "id": "c693964f",
   "metadata": {
    "ExecuteTime": {
     "end_time": "2022-11-01T23:06:45.185189Z",
     "start_time": "2022-11-01T23:06:45.163625Z"
    },
    "hidden": true,
    "scrolled": true
   },
   "outputs": [
    {
     "data": {
      "text/html": [
       "<div>\n",
       "<style scoped>\n",
       "    .dataframe tbody tr th:only-of-type {\n",
       "        vertical-align: middle;\n",
       "    }\n",
       "\n",
       "    .dataframe tbody tr th {\n",
       "        vertical-align: top;\n",
       "    }\n",
       "\n",
       "    .dataframe thead th {\n",
       "        text-align: right;\n",
       "    }\n",
       "</style>\n",
       "<table border=\"1\" class=\"dataframe\">\n",
       "  <thead>\n",
       "    <tr style=\"text-align: right;\">\n",
       "      <th></th>\n",
       "      <th>Genero</th>\n",
       "      <th>%</th>\n",
       "    </tr>\n",
       "  </thead>\n",
       "  <tbody>\n",
       "    <tr>\n",
       "      <th>0</th>\n",
       "      <td>Male</td>\n",
       "      <td>79.72</td>\n",
       "    </tr>\n",
       "    <tr>\n",
       "      <th>1</th>\n",
       "      <td>Female</td>\n",
       "      <td>18.88</td>\n",
       "    </tr>\n",
       "    <tr>\n",
       "      <th>2</th>\n",
       "      <td>Unknown</td>\n",
       "      <td>1.40</td>\n",
       "    </tr>\n",
       "  </tbody>\n",
       "</table>\n",
       "</div>"
      ],
      "text/plain": [
       "    Genero      %\n",
       "0     Male  79.72\n",
       "1   Female  18.88\n",
       "2  Unknown   1.40"
      ]
     },
     "execution_count": 394,
     "metadata": {},
     "output_type": "execute_result"
    }
   ],
   "source": [
    "(shark_2015['Genero'].value_counts(normalize=True)*100).round(2).reset_index().rename(columns= {'Genero': '%', 'index':'Genero'}).head(5)"
   ]
  },
  {
   "cell_type": "markdown",
   "id": "bce7e4fe",
   "metadata": {
    "heading_collapsed": true,
    "hidden": true
   },
   "source": [
    "### Qual a porcentagem de fatalidade?"
   ]
  },
  {
   "cell_type": "code",
   "execution_count": 402,
   "id": "751bf72a",
   "metadata": {
    "ExecuteTime": {
     "end_time": "2022-11-01T23:16:05.636188Z",
     "start_time": "2022-11-01T23:16:05.620404Z"
    },
    "hidden": true
   },
   "outputs": [
    {
     "data": {
      "text/html": [
       "<div>\n",
       "<style scoped>\n",
       "    .dataframe tbody tr th:only-of-type {\n",
       "        vertical-align: middle;\n",
       "    }\n",
       "\n",
       "    .dataframe tbody tr th {\n",
       "        vertical-align: top;\n",
       "    }\n",
       "\n",
       "    .dataframe thead th {\n",
       "        text-align: right;\n",
       "    }\n",
       "</style>\n",
       "<table border=\"1\" class=\"dataframe\">\n",
       "  <thead>\n",
       "    <tr style=\"text-align: right;\">\n",
       "      <th></th>\n",
       "      <th>Tipo</th>\n",
       "      <th>%</th>\n",
       "    </tr>\n",
       "  </thead>\n",
       "  <tbody>\n",
       "    <tr>\n",
       "      <th>0</th>\n",
       "      <td>N</td>\n",
       "      <td>84.62</td>\n",
       "    </tr>\n",
       "    <tr>\n",
       "      <th>1</th>\n",
       "      <td>Unknown</td>\n",
       "      <td>9.09</td>\n",
       "    </tr>\n",
       "    <tr>\n",
       "      <th>2</th>\n",
       "      <td>Y</td>\n",
       "      <td>6.29</td>\n",
       "    </tr>\n",
       "  </tbody>\n",
       "</table>\n",
       "</div>"
      ],
      "text/plain": [
       "      Tipo      %\n",
       "0        N  84.62\n",
       "1  Unknown   9.09\n",
       "2        Y   6.29"
      ]
     },
     "execution_count": 402,
     "metadata": {},
     "output_type": "execute_result"
    }
   ],
   "source": [
    "(shark_2015['Fatal (Y/N)'].value_counts(normalize=True)*100).round(2).reset_index().rename(columns= {'Fatal (Y/N)': '%', 'index':'Tipo'}).head(5)"
   ]
  },
  {
   "cell_type": "code",
   "execution_count": null,
   "id": "70fdecb8",
   "metadata": {
    "hidden": true
   },
   "outputs": [],
   "source": []
  }
 ],
 "metadata": {
  "kernelspec": {
   "display_name": "Python 3 (ipykernel)",
   "language": "python",
   "name": "python3"
  },
  "language_info": {
   "codemirror_mode": {
    "name": "ipython",
    "version": 3
   },
   "file_extension": ".py",
   "mimetype": "text/x-python",
   "name": "python",
   "nbconvert_exporter": "python",
   "pygments_lexer": "ipython3",
   "version": "3.9.12"
  },
  "toc": {
   "base_numbering": 1,
   "nav_menu": {},
   "number_sections": true,
   "sideBar": true,
   "skip_h1_title": false,
   "title_cell": "Table of Contents",
   "title_sidebar": "Contents",
   "toc_cell": false,
   "toc_position": {},
   "toc_section_display": true,
   "toc_window_display": false
  },
  "varInspector": {
   "cols": {
    "lenName": 16,
    "lenType": 16,
    "lenVar": 40
   },
   "kernels_config": {
    "python": {
     "delete_cmd_postfix": "",
     "delete_cmd_prefix": "del ",
     "library": "var_list.py",
     "varRefreshCmd": "print(var_dic_list())"
    },
    "r": {
     "delete_cmd_postfix": ") ",
     "delete_cmd_prefix": "rm(",
     "library": "var_list.r",
     "varRefreshCmd": "cat(var_dic_list()) "
    }
   },
   "types_to_exclude": [
    "module",
    "function",
    "builtin_function_or_method",
    "instance",
    "_Feature"
   ],
   "window_display": false
  }
 },
 "nbformat": 4,
 "nbformat_minor": 5
}
